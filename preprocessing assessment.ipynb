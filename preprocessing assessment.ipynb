{
 "cells": [
  {
   "cell_type": "code",
   "execution_count": 1,
   "id": "9643053b-88c3-4fc8-b430-f2bf0e0be279",
   "metadata": {},
   "outputs": [],
   "source": [
    "import pandas as pd\n",
    "import numpy as np\n",
    "import matplotlib.pyplot as plt\n",
    "import seaborn as sns"
   ]
  },
  {
   "cell_type": "code",
   "execution_count": 120,
   "id": "afb050a4-445e-488b-9665-bb399eb2e1a5",
   "metadata": {},
   "outputs": [
    {
     "data": {
      "text/html": [
       "<div>\n",
       "<style scoped>\n",
       "    .dataframe tbody tr th:only-of-type {\n",
       "        vertical-align: middle;\n",
       "    }\n",
       "\n",
       "    .dataframe tbody tr th {\n",
       "        vertical-align: top;\n",
       "    }\n",
       "\n",
       "    .dataframe thead th {\n",
       "        text-align: right;\n",
       "    }\n",
       "</style>\n",
       "<table border=\"1\" class=\"dataframe\">\n",
       "  <thead>\n",
       "    <tr style=\"text-align: right;\">\n",
       "      <th></th>\n",
       "      <th>Company</th>\n",
       "      <th>Age</th>\n",
       "      <th>Salary</th>\n",
       "      <th>Place</th>\n",
       "      <th>Country</th>\n",
       "      <th>Gender</th>\n",
       "    </tr>\n",
       "  </thead>\n",
       "  <tbody>\n",
       "    <tr>\n",
       "      <th>0</th>\n",
       "      <td>TCS</td>\n",
       "      <td>20.0</td>\n",
       "      <td>NaN</td>\n",
       "      <td>Chennai</td>\n",
       "      <td>India</td>\n",
       "      <td>0</td>\n",
       "    </tr>\n",
       "    <tr>\n",
       "      <th>1</th>\n",
       "      <td>Infosys</td>\n",
       "      <td>30.0</td>\n",
       "      <td>NaN</td>\n",
       "      <td>Mumbai</td>\n",
       "      <td>India</td>\n",
       "      <td>0</td>\n",
       "    </tr>\n",
       "    <tr>\n",
       "      <th>2</th>\n",
       "      <td>TCS</td>\n",
       "      <td>35.0</td>\n",
       "      <td>2300.0</td>\n",
       "      <td>Calcutta</td>\n",
       "      <td>India</td>\n",
       "      <td>0</td>\n",
       "    </tr>\n",
       "    <tr>\n",
       "      <th>3</th>\n",
       "      <td>Infosys</td>\n",
       "      <td>40.0</td>\n",
       "      <td>3000.0</td>\n",
       "      <td>Delhi</td>\n",
       "      <td>India</td>\n",
       "      <td>0</td>\n",
       "    </tr>\n",
       "    <tr>\n",
       "      <th>4</th>\n",
       "      <td>TCS</td>\n",
       "      <td>23.0</td>\n",
       "      <td>4000.0</td>\n",
       "      <td>Mumbai</td>\n",
       "      <td>India</td>\n",
       "      <td>0</td>\n",
       "    </tr>\n",
       "    <tr>\n",
       "      <th>...</th>\n",
       "      <td>...</td>\n",
       "      <td>...</td>\n",
       "      <td>...</td>\n",
       "      <td>...</td>\n",
       "      <td>...</td>\n",
       "      <td>...</td>\n",
       "    </tr>\n",
       "    <tr>\n",
       "      <th>143</th>\n",
       "      <td>TCS</td>\n",
       "      <td>33.0</td>\n",
       "      <td>9024.0</td>\n",
       "      <td>Calcutta</td>\n",
       "      <td>India</td>\n",
       "      <td>1</td>\n",
       "    </tr>\n",
       "    <tr>\n",
       "      <th>144</th>\n",
       "      <td>Infosys</td>\n",
       "      <td>22.0</td>\n",
       "      <td>8787.0</td>\n",
       "      <td>Calcutta</td>\n",
       "      <td>India</td>\n",
       "      <td>1</td>\n",
       "    </tr>\n",
       "    <tr>\n",
       "      <th>145</th>\n",
       "      <td>Infosys</td>\n",
       "      <td>44.0</td>\n",
       "      <td>4034.0</td>\n",
       "      <td>Delhi</td>\n",
       "      <td>India</td>\n",
       "      <td>1</td>\n",
       "    </tr>\n",
       "    <tr>\n",
       "      <th>146</th>\n",
       "      <td>TCS</td>\n",
       "      <td>33.0</td>\n",
       "      <td>5034.0</td>\n",
       "      <td>Mumbai</td>\n",
       "      <td>India</td>\n",
       "      <td>1</td>\n",
       "    </tr>\n",
       "    <tr>\n",
       "      <th>147</th>\n",
       "      <td>Infosys</td>\n",
       "      <td>22.0</td>\n",
       "      <td>8202.0</td>\n",
       "      <td>Cochin</td>\n",
       "      <td>India</td>\n",
       "      <td>0</td>\n",
       "    </tr>\n",
       "  </tbody>\n",
       "</table>\n",
       "<p>148 rows × 6 columns</p>\n",
       "</div>"
      ],
      "text/plain": [
       "     Company   Age  Salary     Place Country  Gender\n",
       "0        TCS  20.0     NaN   Chennai   India       0\n",
       "1    Infosys  30.0     NaN    Mumbai   India       0\n",
       "2        TCS  35.0  2300.0  Calcutta   India       0\n",
       "3    Infosys  40.0  3000.0     Delhi   India       0\n",
       "4        TCS  23.0  4000.0    Mumbai   India       0\n",
       "..       ...   ...     ...       ...     ...     ...\n",
       "143      TCS  33.0  9024.0  Calcutta   India       1\n",
       "144  Infosys  22.0  8787.0  Calcutta   India       1\n",
       "145  Infosys  44.0  4034.0     Delhi   India       1\n",
       "146      TCS  33.0  5034.0    Mumbai   India       1\n",
       "147  Infosys  22.0  8202.0    Cochin   India       0\n",
       "\n",
       "[148 rows x 6 columns]"
      ]
     },
     "execution_count": 120,
     "metadata": {},
     "output_type": "execute_result"
    }
   ],
   "source": [
    "df=pd.read_csv('Employee.csv')\n",
    "df"
   ]
  },
  {
   "cell_type": "markdown",
   "id": "517aa3ee-2bac-4ad3-b660-abd4ad4d041d",
   "metadata": {},
   "source": [
    "#### Data exploration"
   ]
  },
  {
   "cell_type": "code",
   "execution_count": 3,
   "id": "dffcd4e1-d788-4917-bb1e-36d0480b5304",
   "metadata": {},
   "outputs": [
    {
     "data": {
      "text/html": [
       "<div>\n",
       "<style scoped>\n",
       "    .dataframe tbody tr th:only-of-type {\n",
       "        vertical-align: middle;\n",
       "    }\n",
       "\n",
       "    .dataframe tbody tr th {\n",
       "        vertical-align: top;\n",
       "    }\n",
       "\n",
       "    .dataframe thead th {\n",
       "        text-align: right;\n",
       "    }\n",
       "</style>\n",
       "<table border=\"1\" class=\"dataframe\">\n",
       "  <thead>\n",
       "    <tr style=\"text-align: right;\">\n",
       "      <th></th>\n",
       "      <th>Company</th>\n",
       "      <th>Age</th>\n",
       "      <th>Salary</th>\n",
       "      <th>Place</th>\n",
       "      <th>Country</th>\n",
       "      <th>Gender</th>\n",
       "    </tr>\n",
       "  </thead>\n",
       "  <tbody>\n",
       "    <tr>\n",
       "      <th>0</th>\n",
       "      <td>TCS</td>\n",
       "      <td>20.0</td>\n",
       "      <td>NaN</td>\n",
       "      <td>Chennai</td>\n",
       "      <td>India</td>\n",
       "      <td>0</td>\n",
       "    </tr>\n",
       "    <tr>\n",
       "      <th>1</th>\n",
       "      <td>Infosys</td>\n",
       "      <td>30.0</td>\n",
       "      <td>NaN</td>\n",
       "      <td>Mumbai</td>\n",
       "      <td>India</td>\n",
       "      <td>0</td>\n",
       "    </tr>\n",
       "    <tr>\n",
       "      <th>2</th>\n",
       "      <td>TCS</td>\n",
       "      <td>35.0</td>\n",
       "      <td>2300.0</td>\n",
       "      <td>Calcutta</td>\n",
       "      <td>India</td>\n",
       "      <td>0</td>\n",
       "    </tr>\n",
       "    <tr>\n",
       "      <th>3</th>\n",
       "      <td>Infosys</td>\n",
       "      <td>40.0</td>\n",
       "      <td>3000.0</td>\n",
       "      <td>Delhi</td>\n",
       "      <td>India</td>\n",
       "      <td>0</td>\n",
       "    </tr>\n",
       "    <tr>\n",
       "      <th>4</th>\n",
       "      <td>TCS</td>\n",
       "      <td>23.0</td>\n",
       "      <td>4000.0</td>\n",
       "      <td>Mumbai</td>\n",
       "      <td>India</td>\n",
       "      <td>0</td>\n",
       "    </tr>\n",
       "  </tbody>\n",
       "</table>\n",
       "</div>"
      ],
      "text/plain": [
       "   Company   Age  Salary     Place Country  Gender\n",
       "0      TCS  20.0     NaN   Chennai   India       0\n",
       "1  Infosys  30.0     NaN    Mumbai   India       0\n",
       "2      TCS  35.0  2300.0  Calcutta   India       0\n",
       "3  Infosys  40.0  3000.0     Delhi   India       0\n",
       "4      TCS  23.0  4000.0    Mumbai   India       0"
      ]
     },
     "execution_count": 3,
     "metadata": {},
     "output_type": "execute_result"
    }
   ],
   "source": [
    "df.head()"
   ]
  },
  {
   "cell_type": "code",
   "execution_count": 4,
   "id": "332b9688-5b2f-463b-8b88-668ee6e5e432",
   "metadata": {},
   "outputs": [
    {
     "data": {
      "text/html": [
       "<div>\n",
       "<style scoped>\n",
       "    .dataframe tbody tr th:only-of-type {\n",
       "        vertical-align: middle;\n",
       "    }\n",
       "\n",
       "    .dataframe tbody tr th {\n",
       "        vertical-align: top;\n",
       "    }\n",
       "\n",
       "    .dataframe thead th {\n",
       "        text-align: right;\n",
       "    }\n",
       "</style>\n",
       "<table border=\"1\" class=\"dataframe\">\n",
       "  <thead>\n",
       "    <tr style=\"text-align: right;\">\n",
       "      <th></th>\n",
       "      <th>Company</th>\n",
       "      <th>Age</th>\n",
       "      <th>Salary</th>\n",
       "      <th>Place</th>\n",
       "      <th>Country</th>\n",
       "      <th>Gender</th>\n",
       "    </tr>\n",
       "  </thead>\n",
       "  <tbody>\n",
       "    <tr>\n",
       "      <th>143</th>\n",
       "      <td>TCS</td>\n",
       "      <td>33.0</td>\n",
       "      <td>9024.0</td>\n",
       "      <td>Calcutta</td>\n",
       "      <td>India</td>\n",
       "      <td>1</td>\n",
       "    </tr>\n",
       "    <tr>\n",
       "      <th>144</th>\n",
       "      <td>Infosys</td>\n",
       "      <td>22.0</td>\n",
       "      <td>8787.0</td>\n",
       "      <td>Calcutta</td>\n",
       "      <td>India</td>\n",
       "      <td>1</td>\n",
       "    </tr>\n",
       "    <tr>\n",
       "      <th>145</th>\n",
       "      <td>Infosys</td>\n",
       "      <td>44.0</td>\n",
       "      <td>4034.0</td>\n",
       "      <td>Delhi</td>\n",
       "      <td>India</td>\n",
       "      <td>1</td>\n",
       "    </tr>\n",
       "    <tr>\n",
       "      <th>146</th>\n",
       "      <td>TCS</td>\n",
       "      <td>33.0</td>\n",
       "      <td>5034.0</td>\n",
       "      <td>Mumbai</td>\n",
       "      <td>India</td>\n",
       "      <td>1</td>\n",
       "    </tr>\n",
       "    <tr>\n",
       "      <th>147</th>\n",
       "      <td>Infosys</td>\n",
       "      <td>22.0</td>\n",
       "      <td>8202.0</td>\n",
       "      <td>Cochin</td>\n",
       "      <td>India</td>\n",
       "      <td>0</td>\n",
       "    </tr>\n",
       "  </tbody>\n",
       "</table>\n",
       "</div>"
      ],
      "text/plain": [
       "     Company   Age  Salary     Place Country  Gender\n",
       "143      TCS  33.0  9024.0  Calcutta   India       1\n",
       "144  Infosys  22.0  8787.0  Calcutta   India       1\n",
       "145  Infosys  44.0  4034.0     Delhi   India       1\n",
       "146      TCS  33.0  5034.0    Mumbai   India       1\n",
       "147  Infosys  22.0  8202.0    Cochin   India       0"
      ]
     },
     "execution_count": 4,
     "metadata": {},
     "output_type": "execute_result"
    }
   ],
   "source": [
    "df.tail()"
   ]
  },
  {
   "cell_type": "code",
   "execution_count": 5,
   "id": "2af64440-42f1-4e9f-98c7-17929972f0df",
   "metadata": {},
   "outputs": [
    {
     "data": {
      "text/plain": [
       "(148, 6)"
      ]
     },
     "execution_count": 5,
     "metadata": {},
     "output_type": "execute_result"
    }
   ],
   "source": [
    "df.shape"
   ]
  },
  {
   "cell_type": "markdown",
   "id": "f7032b6a-0930-46e2-97bd-c4fef2de6c82",
   "metadata": {},
   "source": [
    "##### There are 148 rows and 6 columns"
   ]
  },
  {
   "cell_type": "code",
   "execution_count": 6,
   "id": "e726b6f8-8ea3-4a4e-9dfc-32e94f325c60",
   "metadata": {},
   "outputs": [
    {
     "data": {
      "text/plain": [
       "Index(['Company', 'Age', 'Salary', 'Place', 'Country', 'Gender'], dtype='object')"
      ]
     },
     "execution_count": 6,
     "metadata": {},
     "output_type": "execute_result"
    }
   ],
   "source": [
    "df.columns"
   ]
  },
  {
   "cell_type": "code",
   "execution_count": 7,
   "id": "d3561718-0002-4453-ab2e-99f6b1a1c147",
   "metadata": {},
   "outputs": [
    {
     "data": {
      "text/plain": [
       "Company     8\n",
       "Age        18\n",
       "Salary     24\n",
       "Place      14\n",
       "Country     0\n",
       "Gender      0\n",
       "dtype: int64"
      ]
     },
     "execution_count": 7,
     "metadata": {},
     "output_type": "execute_result"
    }
   ],
   "source": [
    "df.isnull().sum()"
   ]
  },
  {
   "cell_type": "markdown",
   "id": "146e9801-a5c6-4573-9c77-d956b929832a",
   "metadata": {},
   "source": [
    "##### No.of null values in company is 8,in A ge is 18,in Salary is 24,in Place is 14.Country, and Gender column has no null values."
   ]
  },
  {
   "cell_type": "code",
   "execution_count": 121,
   "id": "f2b38bcf-e48e-4d71-80a3-1ae63c9ab815",
   "metadata": {},
   "outputs": [
    {
     "name": "stdout",
     "output_type": "stream",
     "text": [
      "4\n"
     ]
    }
   ],
   "source": [
    "print(df.duplicated().sum())"
   ]
  },
  {
   "cell_type": "markdown",
   "id": "822e7441-3bfb-41b2-9bd5-4dc4405e2559",
   "metadata": {},
   "source": [
    "##### There are 4 duplicate rows."
   ]
  },
  {
   "cell_type": "code",
   "execution_count": 9,
   "id": "f38c7677-d135-478c-a8ff-94213021ccee",
   "metadata": {},
   "outputs": [
    {
     "data": {
      "text/html": [
       "<div>\n",
       "<style scoped>\n",
       "    .dataframe tbody tr th:only-of-type {\n",
       "        vertical-align: middle;\n",
       "    }\n",
       "\n",
       "    .dataframe tbody tr th {\n",
       "        vertical-align: top;\n",
       "    }\n",
       "\n",
       "    .dataframe thead th {\n",
       "        text-align: right;\n",
       "    }\n",
       "</style>\n",
       "<table border=\"1\" class=\"dataframe\">\n",
       "  <thead>\n",
       "    <tr style=\"text-align: right;\">\n",
       "      <th></th>\n",
       "      <th>Company</th>\n",
       "      <th>Age</th>\n",
       "      <th>Salary</th>\n",
       "      <th>Place</th>\n",
       "      <th>Country</th>\n",
       "      <th>Gender</th>\n",
       "    </tr>\n",
       "  </thead>\n",
       "  <tbody>\n",
       "    <tr>\n",
       "      <th>count</th>\n",
       "      <td>140</td>\n",
       "      <td>130.000000</td>\n",
       "      <td>124.000000</td>\n",
       "      <td>134</td>\n",
       "      <td>148</td>\n",
       "      <td>148.000000</td>\n",
       "    </tr>\n",
       "    <tr>\n",
       "      <th>unique</th>\n",
       "      <td>6</td>\n",
       "      <td>NaN</td>\n",
       "      <td>NaN</td>\n",
       "      <td>11</td>\n",
       "      <td>1</td>\n",
       "      <td>NaN</td>\n",
       "    </tr>\n",
       "    <tr>\n",
       "      <th>top</th>\n",
       "      <td>TCS</td>\n",
       "      <td>NaN</td>\n",
       "      <td>NaN</td>\n",
       "      <td>Mumbai</td>\n",
       "      <td>India</td>\n",
       "      <td>NaN</td>\n",
       "    </tr>\n",
       "    <tr>\n",
       "      <th>freq</th>\n",
       "      <td>53</td>\n",
       "      <td>NaN</td>\n",
       "      <td>NaN</td>\n",
       "      <td>37</td>\n",
       "      <td>148</td>\n",
       "      <td>NaN</td>\n",
       "    </tr>\n",
       "    <tr>\n",
       "      <th>mean</th>\n",
       "      <td>NaN</td>\n",
       "      <td>30.484615</td>\n",
       "      <td>5312.467742</td>\n",
       "      <td>NaN</td>\n",
       "      <td>NaN</td>\n",
       "      <td>0.222973</td>\n",
       "    </tr>\n",
       "    <tr>\n",
       "      <th>std</th>\n",
       "      <td>NaN</td>\n",
       "      <td>11.096640</td>\n",
       "      <td>2573.764683</td>\n",
       "      <td>NaN</td>\n",
       "      <td>NaN</td>\n",
       "      <td>0.417654</td>\n",
       "    </tr>\n",
       "    <tr>\n",
       "      <th>min</th>\n",
       "      <td>NaN</td>\n",
       "      <td>0.000000</td>\n",
       "      <td>1089.000000</td>\n",
       "      <td>NaN</td>\n",
       "      <td>NaN</td>\n",
       "      <td>0.000000</td>\n",
       "    </tr>\n",
       "    <tr>\n",
       "      <th>25%</th>\n",
       "      <td>NaN</td>\n",
       "      <td>22.000000</td>\n",
       "      <td>3030.000000</td>\n",
       "      <td>NaN</td>\n",
       "      <td>NaN</td>\n",
       "      <td>0.000000</td>\n",
       "    </tr>\n",
       "    <tr>\n",
       "      <th>50%</th>\n",
       "      <td>NaN</td>\n",
       "      <td>32.500000</td>\n",
       "      <td>5000.000000</td>\n",
       "      <td>NaN</td>\n",
       "      <td>NaN</td>\n",
       "      <td>0.000000</td>\n",
       "    </tr>\n",
       "    <tr>\n",
       "      <th>75%</th>\n",
       "      <td>NaN</td>\n",
       "      <td>37.750000</td>\n",
       "      <td>8000.000000</td>\n",
       "      <td>NaN</td>\n",
       "      <td>NaN</td>\n",
       "      <td>0.000000</td>\n",
       "    </tr>\n",
       "    <tr>\n",
       "      <th>max</th>\n",
       "      <td>NaN</td>\n",
       "      <td>54.000000</td>\n",
       "      <td>9876.000000</td>\n",
       "      <td>NaN</td>\n",
       "      <td>NaN</td>\n",
       "      <td>1.000000</td>\n",
       "    </tr>\n",
       "  </tbody>\n",
       "</table>\n",
       "</div>"
      ],
      "text/plain": [
       "       Company         Age       Salary   Place Country      Gender\n",
       "count      140  130.000000   124.000000     134     148  148.000000\n",
       "unique       6         NaN          NaN      11       1         NaN\n",
       "top        TCS         NaN          NaN  Mumbai   India         NaN\n",
       "freq        53         NaN          NaN      37     148         NaN\n",
       "mean       NaN   30.484615  5312.467742     NaN     NaN    0.222973\n",
       "std        NaN   11.096640  2573.764683     NaN     NaN    0.417654\n",
       "min        NaN    0.000000  1089.000000     NaN     NaN    0.000000\n",
       "25%        NaN   22.000000  3030.000000     NaN     NaN    0.000000\n",
       "50%        NaN   32.500000  5000.000000     NaN     NaN    0.000000\n",
       "75%        NaN   37.750000  8000.000000     NaN     NaN    0.000000\n",
       "max        NaN   54.000000  9876.000000     NaN     NaN    1.000000"
      ]
     },
     "execution_count": 9,
     "metadata": {},
     "output_type": "execute_result"
    }
   ],
   "source": [
    "df.describe(include='all')"
   ]
  },
  {
   "cell_type": "code",
   "execution_count": 10,
   "id": "cc901fbe-9738-4376-ba47-ee1a9c8b9aeb",
   "metadata": {},
   "outputs": [
    {
     "data": {
      "text/plain": [
       "<bound method DataFrame.info of      Company   Age  Salary     Place Country  Gender\n",
       "0        TCS  20.0     NaN   Chennai   India       0\n",
       "1    Infosys  30.0     NaN    Mumbai   India       0\n",
       "2        TCS  35.0  2300.0  Calcutta   India       0\n",
       "3    Infosys  40.0  3000.0     Delhi   India       0\n",
       "4        TCS  23.0  4000.0    Mumbai   India       0\n",
       "..       ...   ...     ...       ...     ...     ...\n",
       "143      TCS  33.0  9024.0  Calcutta   India       1\n",
       "144  Infosys  22.0  8787.0  Calcutta   India       1\n",
       "145  Infosys  44.0  4034.0     Delhi   India       1\n",
       "146      TCS  33.0  5034.0    Mumbai   India       1\n",
       "147  Infosys  22.0  8202.0    Cochin   India       0\n",
       "\n",
       "[148 rows x 6 columns]>"
      ]
     },
     "execution_count": 10,
     "metadata": {},
     "output_type": "execute_result"
    }
   ],
   "source": [
    "df.info"
   ]
  },
  {
   "cell_type": "code",
   "execution_count": 11,
   "id": "03f71ea7-ae7a-49a5-be65-60a188d5cc1c",
   "metadata": {},
   "outputs": [
    {
     "data": {
      "text/plain": [
       "Company                    Age   Salary  Place     Country  Gender\n",
       "Infosys                    22.0  8787.0  Calcutta  India    1         2\n",
       "TCS                        21.0  4824.0  Mumbai    India    0         2\n",
       "CTS                        0.0   1234.0  Calcutta  India    0         1\n",
       "                           18.0  1234.0  Mumbai    India    0         1\n",
       "                           19.0  1234.0  Cochin    India    0         1\n",
       "                                                                     ..\n",
       "TCS                        36.0  5000.0  Chennai   India    0         1\n",
       "                           37.0  2300.0  Mumbai    India    0         1\n",
       "                                 3045.0  Calcutta  India    0         1\n",
       "                           38.0  3045.0  Noida     India    0         1\n",
       "Tata Consultancy Services  31.0  8345.0  Mumbai    India    0         1\n",
       "Name: count, Length: 91, dtype: int64"
      ]
     },
     "execution_count": 11,
     "metadata": {},
     "output_type": "execute_result"
    }
   ],
   "source": [
    "df.value_counts()"
   ]
  },
  {
   "cell_type": "code",
   "execution_count": 123,
   "id": "39d1bac4-1d17-4dff-8a1f-bd85fba34777",
   "metadata": {},
   "outputs": [
    {
     "data": {
      "text/html": [
       "<div>\n",
       "<style scoped>\n",
       "    .dataframe tbody tr th:only-of-type {\n",
       "        vertical-align: middle;\n",
       "    }\n",
       "\n",
       "    .dataframe tbody tr th {\n",
       "        vertical-align: top;\n",
       "    }\n",
       "\n",
       "    .dataframe thead th {\n",
       "        text-align: right;\n",
       "    }\n",
       "</style>\n",
       "<table border=\"1\" class=\"dataframe\">\n",
       "  <thead>\n",
       "    <tr style=\"text-align: right;\">\n",
       "      <th></th>\n",
       "      <th>Company</th>\n",
       "      <th>Age</th>\n",
       "      <th>Salary</th>\n",
       "      <th>City</th>\n",
       "      <th>Country</th>\n",
       "      <th>Gender</th>\n",
       "    </tr>\n",
       "  </thead>\n",
       "  <tbody>\n",
       "    <tr>\n",
       "      <th>0</th>\n",
       "      <td>TCS</td>\n",
       "      <td>20.0</td>\n",
       "      <td>NaN</td>\n",
       "      <td>Chennai</td>\n",
       "      <td>India</td>\n",
       "      <td>0</td>\n",
       "    </tr>\n",
       "    <tr>\n",
       "      <th>1</th>\n",
       "      <td>Infosys</td>\n",
       "      <td>30.0</td>\n",
       "      <td>NaN</td>\n",
       "      <td>Mumbai</td>\n",
       "      <td>India</td>\n",
       "      <td>0</td>\n",
       "    </tr>\n",
       "    <tr>\n",
       "      <th>2</th>\n",
       "      <td>TCS</td>\n",
       "      <td>35.0</td>\n",
       "      <td>2300.0</td>\n",
       "      <td>Calcutta</td>\n",
       "      <td>India</td>\n",
       "      <td>0</td>\n",
       "    </tr>\n",
       "    <tr>\n",
       "      <th>3</th>\n",
       "      <td>Infosys</td>\n",
       "      <td>40.0</td>\n",
       "      <td>3000.0</td>\n",
       "      <td>Delhi</td>\n",
       "      <td>India</td>\n",
       "      <td>0</td>\n",
       "    </tr>\n",
       "    <tr>\n",
       "      <th>4</th>\n",
       "      <td>TCS</td>\n",
       "      <td>23.0</td>\n",
       "      <td>4000.0</td>\n",
       "      <td>Mumbai</td>\n",
       "      <td>India</td>\n",
       "      <td>0</td>\n",
       "    </tr>\n",
       "    <tr>\n",
       "      <th>...</th>\n",
       "      <td>...</td>\n",
       "      <td>...</td>\n",
       "      <td>...</td>\n",
       "      <td>...</td>\n",
       "      <td>...</td>\n",
       "      <td>...</td>\n",
       "    </tr>\n",
       "    <tr>\n",
       "      <th>143</th>\n",
       "      <td>TCS</td>\n",
       "      <td>33.0</td>\n",
       "      <td>9024.0</td>\n",
       "      <td>Calcutta</td>\n",
       "      <td>India</td>\n",
       "      <td>1</td>\n",
       "    </tr>\n",
       "    <tr>\n",
       "      <th>144</th>\n",
       "      <td>Infosys</td>\n",
       "      <td>22.0</td>\n",
       "      <td>8787.0</td>\n",
       "      <td>Calcutta</td>\n",
       "      <td>India</td>\n",
       "      <td>1</td>\n",
       "    </tr>\n",
       "    <tr>\n",
       "      <th>145</th>\n",
       "      <td>Infosys</td>\n",
       "      <td>44.0</td>\n",
       "      <td>4034.0</td>\n",
       "      <td>Delhi</td>\n",
       "      <td>India</td>\n",
       "      <td>1</td>\n",
       "    </tr>\n",
       "    <tr>\n",
       "      <th>146</th>\n",
       "      <td>TCS</td>\n",
       "      <td>33.0</td>\n",
       "      <td>5034.0</td>\n",
       "      <td>Mumbai</td>\n",
       "      <td>India</td>\n",
       "      <td>1</td>\n",
       "    </tr>\n",
       "    <tr>\n",
       "      <th>147</th>\n",
       "      <td>Infosys</td>\n",
       "      <td>22.0</td>\n",
       "      <td>8202.0</td>\n",
       "      <td>Cochin</td>\n",
       "      <td>India</td>\n",
       "      <td>0</td>\n",
       "    </tr>\n",
       "  </tbody>\n",
       "</table>\n",
       "<p>148 rows × 6 columns</p>\n",
       "</div>"
      ],
      "text/plain": [
       "     Company   Age  Salary      City Country  Gender\n",
       "0        TCS  20.0     NaN   Chennai   India       0\n",
       "1    Infosys  30.0     NaN    Mumbai   India       0\n",
       "2        TCS  35.0  2300.0  Calcutta   India       0\n",
       "3    Infosys  40.0  3000.0     Delhi   India       0\n",
       "4        TCS  23.0  4000.0    Mumbai   India       0\n",
       "..       ...   ...     ...       ...     ...     ...\n",
       "143      TCS  33.0  9024.0  Calcutta   India       1\n",
       "144  Infosys  22.0  8787.0  Calcutta   India       1\n",
       "145  Infosys  44.0  4034.0     Delhi   India       1\n",
       "146      TCS  33.0  5034.0    Mumbai   India       1\n",
       "147  Infosys  22.0  8202.0    Cochin   India       0\n",
       "\n",
       "[148 rows x 6 columns]"
      ]
     },
     "execution_count": 123,
     "metadata": {},
     "output_type": "execute_result"
    }
   ],
   "source": [
    "df=df.rename(columns={'Place':'City'})\n",
    "df"
   ]
  },
  {
   "cell_type": "code",
   "execution_count": 124,
   "id": "ca1756a0-8953-4ed1-9d17-12725b3ce639",
   "metadata": {
    "scrolled": true
   },
   "outputs": [
    {
     "data": {
      "text/plain": [
       "Company     6\n",
       "Age        29\n",
       "Salary     40\n",
       "City       11\n",
       "Country     1\n",
       "Gender      2\n",
       "dtype: int64"
      ]
     },
     "execution_count": 124,
     "metadata": {},
     "output_type": "execute_result"
    }
   ],
   "source": [
    "df.nunique()"
   ]
  },
  {
   "cell_type": "markdown",
   "id": "941d82be-c9ec-40a6-8ae6-7c290368b425",
   "metadata": {},
   "source": [
    "##### company has 6 unique values,Age has 29,Salary has 40,Place has 11,Country has 1,Gender has 2."
   ]
  },
  {
   "cell_type": "code",
   "execution_count": 13,
   "id": "c9b83c49-78fa-4407-acce-d80dc8ee1e29",
   "metadata": {},
   "outputs": [
    {
     "data": {
      "text/plain": [
       "148"
      ]
     },
     "execution_count": 13,
     "metadata": {},
     "output_type": "execute_result"
    }
   ],
   "source": [
    "len(df)"
   ]
  },
  {
   "cell_type": "markdown",
   "id": "8bd0eed9-8ca8-4427-9232-d5939e4dc930",
   "metadata": {},
   "source": [
    "##### unique values in each feature"
   ]
  },
  {
   "cell_type": "code",
   "execution_count": 125,
   "id": "43c11fdf-664f-4dde-a5ed-e3dce3fb0e38",
   "metadata": {},
   "outputs": [
    {
     "data": {
      "text/plain": [
       "array(['TCS', 'Infosys', 'CTS', nan, 'Tata Consultancy Services',\n",
       "       'Congnizant', 'Infosys Pvt Lmt'], dtype=object)"
      ]
     },
     "execution_count": 125,
     "metadata": {},
     "output_type": "execute_result"
    }
   ],
   "source": [
    "df['Company'].unique()"
   ]
  },
  {
   "cell_type": "code",
   "execution_count": 126,
   "id": "f93cd424-c17d-4df2-a161-6682fd4cb9d7",
   "metadata": {},
   "outputs": [
    {
     "data": {
      "text/plain": [
       "array([20., 30., 35., 40., 23., nan, 34., 45., 18., 22., 32., 37., 50.,\n",
       "       21., 46., 36., 26., 41., 24., 25., 43., 19., 38., 51., 31., 44.,\n",
       "       33., 17.,  0., 54.])"
      ]
     },
     "execution_count": 126,
     "metadata": {},
     "output_type": "execute_result"
    }
   ],
   "source": [
    "df['Age'].unique()"
   ]
  },
  {
   "cell_type": "code",
   "execution_count": 127,
   "id": "2f794518-dab5-4ffe-a074-aaf987d6e05e",
   "metadata": {},
   "outputs": [
    {
     "data": {
      "text/plain": [
       "array(['Chennai', 'Mumbai', 'Calcutta', 'Delhi', 'Podicherry', 'Cochin',\n",
       "       nan, 'Noida', 'Hyderabad', 'Bhopal', 'Nagpur', 'Pune'],\n",
       "      dtype=object)"
      ]
     },
     "execution_count": 127,
     "metadata": {},
     "output_type": "execute_result"
    }
   ],
   "source": [
    "df['City'].unique()"
   ]
  },
  {
   "cell_type": "code",
   "execution_count": 128,
   "id": "6de7cf1c-6b68-487d-ab2c-5ac20f29df40",
   "metadata": {},
   "outputs": [
    {
     "data": {
      "text/plain": [
       "array([0, 1])"
      ]
     },
     "execution_count": 128,
     "metadata": {},
     "output_type": "execute_result"
    }
   ],
   "source": [
    "df['Gender'].unique()"
   ]
  },
  {
   "cell_type": "code",
   "execution_count": 129,
   "id": "788c48d9-e3fa-4137-996c-297499028bac",
   "metadata": {},
   "outputs": [
    {
     "data": {
      "text/plain": [
       "array([  nan, 2300., 3000., 4000., 5000., 6000., 7000., 8000., 9000.,\n",
       "       1089., 1234., 3030., 3045., 3184., 4824., 5835., 7084., 8943.,\n",
       "       8345., 9284., 9876., 2034., 7654., 2934., 4034., 5034., 8202.,\n",
       "       9024., 4345., 6544., 6543., 3234., 4324., 5435., 5555., 8787.,\n",
       "       3454., 5654., 5009., 5098., 3033.])"
      ]
     },
     "execution_count": 129,
     "metadata": {},
     "output_type": "execute_result"
    }
   ],
   "source": [
    "df['Salary'].unique()"
   ]
  },
  {
   "cell_type": "code",
   "execution_count": 14,
   "id": "50266351-dce1-4c41-a7bd-47436b50b405",
   "metadata": {},
   "outputs": [
    {
     "data": {
      "image/png": "[encoded data removed]",
      "text/plain": [
       "<Figure size 640x480 with 1 Axes>"
      ]
     },
     "metadata": {},
     "output_type": "display_data"
    }
   ],
   "source": [
    "df['Age'].hist(bins=10,edgecolor='black')\n",
    "plt.title(\"Histogram of age\")\n",
    "plt.show()"
   ]
  },
  {
   "cell_type": "code",
   "execution_count": 15,
   "id": "d22889ca-8d42-4a43-af6d-ca2f69d09c4f",
   "metadata": {},
   "outputs": [
    {
     "data": {
      "image/png": "[encoded data removed]",
      "text/plain": [
       "<Figure size 640x480 with 1 Axes>"
      ]
     },
     "metadata": {},
     "output_type": "display_data"
    }
   ],
   "source": [
    "df['Salary'].hist(bins=10,edgecolor='black')\n",
    "plt.title(\"Histogram of salary\")\n",
    "plt.show()"
   ]
  },
  {
   "cell_type": "code",
   "execution_count": 16,
   "id": "a659e511-b7ee-4e48-bc19-389d3a4e1bb1",
   "metadata": {},
   "outputs": [
    {
     "data": {
      "text/plain": [
       "<Axes: ylabel='Age'>"
      ]
     },
     "execution_count": 16,
     "metadata": {},
     "output_type": "execute_result"
    },
    {
     "data": {
      "image/png": "[encoded data removed]",
      "text/plain": [
       "<Figure size 640x480 with 1 Axes>"
      ]
     },
     "metadata": {},
     "output_type": "display_data"
    }
   ],
   "source": [
    "sns.boxplot(df['Age'])"
   ]
  },
  {
   "cell_type": "code",
   "execution_count": 17,
   "id": "7384360c-4dab-4c2f-acac-6d4b2c0f58bc",
   "metadata": {},
   "outputs": [
    {
     "data": {
      "text/plain": [
       "<Axes: ylabel='Salary'>"
      ]
     },
     "execution_count": 17,
     "metadata": {},
     "output_type": "execute_result"
    },
    {
     "data": {
      "image/png": "[encoded data removed]",
      "text/plain": [
       "<Figure size 640x480 with 1 Axes>"
      ]
     },
     "metadata": {},
     "output_type": "display_data"
    }
   ],
   "source": [
    "sns.boxplot(df['Salary'])"
   ]
  },
  {
   "cell_type": "markdown",
   "id": "61d796b0-3dd3-4302-b692-6a44f11f23cf",
   "metadata": {},
   "source": [
    "### Data cleaning"
   ]
  },
  {
   "cell_type": "code",
   "execution_count": 26,
   "id": "8f100ae6-c7e7-430b-ae8a-97483941b780",
   "metadata": {},
   "outputs": [
    {
     "data": {
      "text/plain": [
       "Company     8\n",
       "Age        18\n",
       "Salary     24\n",
       "City       14\n",
       "Country     0\n",
       "Gender      0\n",
       "dtype: int64"
      ]
     },
     "execution_count": 26,
     "metadata": {},
     "output_type": "execute_result"
    }
   ],
   "source": [
    "df.isnull().sum()"
   ]
  },
  {
   "cell_type": "markdown",
   "id": "07aff63a-a9a8-429f-9e19-c12162bfd1d3",
   "metadata": {},
   "source": [
    "##### dropping duplicates"
   ]
  },
  {
   "cell_type": "code",
   "execution_count": 27,
   "id": "85d58a27-3b7e-4913-9de9-f7d0bfd99363",
   "metadata": {},
   "outputs": [
    {
     "data": {
      "text/html": [
       "<div>\n",
       "<style scoped>\n",
       "    .dataframe tbody tr th:only-of-type {\n",
       "        vertical-align: middle;\n",
       "    }\n",
       "\n",
       "    .dataframe tbody tr th {\n",
       "        vertical-align: top;\n",
       "    }\n",
       "\n",
       "    .dataframe thead th {\n",
       "        text-align: right;\n",
       "    }\n",
       "</style>\n",
       "<table border=\"1\" class=\"dataframe\">\n",
       "  <thead>\n",
       "    <tr style=\"text-align: right;\">\n",
       "      <th></th>\n",
       "      <th>Company</th>\n",
       "      <th>Age</th>\n",
       "      <th>Salary</th>\n",
       "      <th>City</th>\n",
       "      <th>Country</th>\n",
       "      <th>Gender</th>\n",
       "    </tr>\n",
       "  </thead>\n",
       "  <tbody>\n",
       "    <tr>\n",
       "      <th>0</th>\n",
       "      <td>TCS</td>\n",
       "      <td>20.0</td>\n",
       "      <td>NaN</td>\n",
       "      <td>Chennai</td>\n",
       "      <td>India</td>\n",
       "      <td>0</td>\n",
       "    </tr>\n",
       "    <tr>\n",
       "      <th>1</th>\n",
       "      <td>Infosys</td>\n",
       "      <td>30.0</td>\n",
       "      <td>NaN</td>\n",
       "      <td>Mumbai</td>\n",
       "      <td>India</td>\n",
       "      <td>0</td>\n",
       "    </tr>\n",
       "    <tr>\n",
       "      <th>2</th>\n",
       "      <td>TCS</td>\n",
       "      <td>35.0</td>\n",
       "      <td>2300.0</td>\n",
       "      <td>Calcutta</td>\n",
       "      <td>India</td>\n",
       "      <td>0</td>\n",
       "    </tr>\n",
       "    <tr>\n",
       "      <th>3</th>\n",
       "      <td>Infosys</td>\n",
       "      <td>40.0</td>\n",
       "      <td>3000.0</td>\n",
       "      <td>Delhi</td>\n",
       "      <td>India</td>\n",
       "      <td>0</td>\n",
       "    </tr>\n",
       "    <tr>\n",
       "      <th>4</th>\n",
       "      <td>TCS</td>\n",
       "      <td>23.0</td>\n",
       "      <td>4000.0</td>\n",
       "      <td>Mumbai</td>\n",
       "      <td>India</td>\n",
       "      <td>0</td>\n",
       "    </tr>\n",
       "    <tr>\n",
       "      <th>...</th>\n",
       "      <td>...</td>\n",
       "      <td>...</td>\n",
       "      <td>...</td>\n",
       "      <td>...</td>\n",
       "      <td>...</td>\n",
       "      <td>...</td>\n",
       "    </tr>\n",
       "    <tr>\n",
       "      <th>142</th>\n",
       "      <td>Infosys Pvt Lmt</td>\n",
       "      <td>22.0</td>\n",
       "      <td>8202.0</td>\n",
       "      <td>Mumbai</td>\n",
       "      <td>India</td>\n",
       "      <td>0</td>\n",
       "    </tr>\n",
       "    <tr>\n",
       "      <th>143</th>\n",
       "      <td>TCS</td>\n",
       "      <td>33.0</td>\n",
       "      <td>9024.0</td>\n",
       "      <td>Calcutta</td>\n",
       "      <td>India</td>\n",
       "      <td>1</td>\n",
       "    </tr>\n",
       "    <tr>\n",
       "      <th>145</th>\n",
       "      <td>Infosys</td>\n",
       "      <td>44.0</td>\n",
       "      <td>4034.0</td>\n",
       "      <td>Delhi</td>\n",
       "      <td>India</td>\n",
       "      <td>1</td>\n",
       "    </tr>\n",
       "    <tr>\n",
       "      <th>146</th>\n",
       "      <td>TCS</td>\n",
       "      <td>33.0</td>\n",
       "      <td>5034.0</td>\n",
       "      <td>Mumbai</td>\n",
       "      <td>India</td>\n",
       "      <td>1</td>\n",
       "    </tr>\n",
       "    <tr>\n",
       "      <th>147</th>\n",
       "      <td>Infosys</td>\n",
       "      <td>22.0</td>\n",
       "      <td>8202.0</td>\n",
       "      <td>Cochin</td>\n",
       "      <td>India</td>\n",
       "      <td>0</td>\n",
       "    </tr>\n",
       "  </tbody>\n",
       "</table>\n",
       "<p>144 rows × 6 columns</p>\n",
       "</div>"
      ],
      "text/plain": [
       "             Company   Age  Salary      City Country  Gender\n",
       "0                TCS  20.0     NaN   Chennai   India       0\n",
       "1            Infosys  30.0     NaN    Mumbai   India       0\n",
       "2                TCS  35.0  2300.0  Calcutta   India       0\n",
       "3            Infosys  40.0  3000.0     Delhi   India       0\n",
       "4                TCS  23.0  4000.0    Mumbai   India       0\n",
       "..               ...   ...     ...       ...     ...     ...\n",
       "142  Infosys Pvt Lmt  22.0  8202.0    Mumbai   India       0\n",
       "143              TCS  33.0  9024.0  Calcutta   India       1\n",
       "145          Infosys  44.0  4034.0     Delhi   India       1\n",
       "146              TCS  33.0  5034.0    Mumbai   India       1\n",
       "147          Infosys  22.0  8202.0    Cochin   India       0\n",
       "\n",
       "[144 rows x 6 columns]"
      ]
     },
     "execution_count": 27,
     "metadata": {},
     "output_type": "execute_result"
    }
   ],
   "source": [
    "df=df.drop_duplicates()\n",
    "df"
   ]
  },
  {
   "cell_type": "code",
   "execution_count": 28,
   "id": "8e8c3764-31a9-4368-9924-442dc64626de",
   "metadata": {},
   "outputs": [
    {
     "data": {
      "text/plain": [
       "np.int64(0)"
      ]
     },
     "execution_count": 28,
     "metadata": {},
     "output_type": "execute_result"
    }
   ],
   "source": [
    "df.duplicated().sum()"
   ]
  },
  {
   "cell_type": "markdown",
   "id": "a4200583-ffdd-4bbd-a4b7-0f40f89bff69",
   "metadata": {},
   "source": [
    "#### detecting outliers"
   ]
  },
  {
   "cell_type": "code",
   "execution_count": 74,
   "id": "c8f1a7c6-8873-4398-b1e7-4c0adb8ae267",
   "metadata": {},
   "outputs": [
    {
     "name": "stdout",
     "output_type": "stream",
     "text": [
      "23.0 , 36.0 , 13.0\n"
     ]
    }
   ],
   "source": [
    "q1=df['Age'].quantile(0.25)\n",
    "q3=df['Age'].quantile(0.75)\n",
    "iqr=q3-q1\n",
    "print(q1,\",\",q3,\",\",iqr)"
   ]
  },
  {
   "cell_type": "code",
   "execution_count": 76,
   "id": "9bffa724-51aa-401d-9d93-c6d7717e7939",
   "metadata": {},
   "outputs": [
    {
     "name": "stdout",
     "output_type": "stream",
     "text": [
      "55.5 , 3.5\n"
     ]
    }
   ],
   "source": [
    "upper_limit=q3+1.5*iqr\n",
    "lower_limit=q1-1.5*iqr\n",
    "print(upper_limit,\",\",lower_limit)"
   ]
  },
  {
   "cell_type": "code",
   "execution_count": 81,
   "id": "e0400bac-cdc7-446c-af06-77482f633506",
   "metadata": {},
   "outputs": [
    {
     "data": {
      "text/html": [
       "<div>\n",
       "<style scoped>\n",
       "    .dataframe tbody tr th:only-of-type {\n",
       "        vertical-align: middle;\n",
       "    }\n",
       "\n",
       "    .dataframe tbody tr th {\n",
       "        vertical-align: top;\n",
       "    }\n",
       "\n",
       "    .dataframe thead th {\n",
       "        text-align: right;\n",
       "    }\n",
       "</style>\n",
       "<table border=\"1\" class=\"dataframe\">\n",
       "  <thead>\n",
       "    <tr style=\"text-align: right;\">\n",
       "      <th></th>\n",
       "      <th>Company</th>\n",
       "      <th>Age</th>\n",
       "      <th>Salary</th>\n",
       "      <th>City</th>\n",
       "      <th>Country</th>\n",
       "      <th>Gender</th>\n",
       "    </tr>\n",
       "  </thead>\n",
       "  <tbody>\n",
       "    <tr>\n",
       "      <th>88</th>\n",
       "      <td>Infosys</td>\n",
       "      <td>0.0</td>\n",
       "      <td>3030.0</td>\n",
       "      <td>Calcutta</td>\n",
       "      <td>India</td>\n",
       "      <td>0</td>\n",
       "    </tr>\n",
       "    <tr>\n",
       "      <th>92</th>\n",
       "      <td>TCS</td>\n",
       "      <td>0.0</td>\n",
       "      <td>3045.0</td>\n",
       "      <td>Delhi</td>\n",
       "      <td>India</td>\n",
       "      <td>0</td>\n",
       "    </tr>\n",
       "    <tr>\n",
       "      <th>101</th>\n",
       "      <td>CTS</td>\n",
       "      <td>0.0</td>\n",
       "      <td>2034.0</td>\n",
       "      <td>Podicherry</td>\n",
       "      <td>India</td>\n",
       "      <td>0</td>\n",
       "    </tr>\n",
       "    <tr>\n",
       "      <th>107</th>\n",
       "      <td>TCS</td>\n",
       "      <td>0.0</td>\n",
       "      <td>9024.0</td>\n",
       "      <td>Chennai</td>\n",
       "      <td>India</td>\n",
       "      <td>1</td>\n",
       "    </tr>\n",
       "    <tr>\n",
       "      <th>111</th>\n",
       "      <td>Infosys</td>\n",
       "      <td>0.0</td>\n",
       "      <td>3234.0</td>\n",
       "      <td>Mumbai</td>\n",
       "      <td>India</td>\n",
       "      <td>0</td>\n",
       "    </tr>\n",
       "    <tr>\n",
       "      <th>121</th>\n",
       "      <td>CTS</td>\n",
       "      <td>0.0</td>\n",
       "      <td>1234.0</td>\n",
       "      <td>Calcutta</td>\n",
       "      <td>India</td>\n",
       "      <td>0</td>\n",
       "    </tr>\n",
       "  </tbody>\n",
       "</table>\n",
       "</div>"
      ],
      "text/plain": [
       "     Company  Age  Salary        City Country  Gender\n",
       "88   Infosys  0.0  3030.0    Calcutta   India       0\n",
       "92       TCS  0.0  3045.0       Delhi   India       0\n",
       "101      CTS  0.0  2034.0  Podicherry   India       0\n",
       "107      TCS  0.0  9024.0     Chennai   India       1\n",
       "111  Infosys  0.0  3234.0      Mumbai   India       0\n",
       "121      CTS  0.0  1234.0    Calcutta   India       0"
      ]
     },
     "execution_count": 81,
     "metadata": {},
     "output_type": "execute_result"
    }
   ],
   "source": [
    "new_df=df.copy()\n",
    "new_df.loc[(new_df['Age']>upper_limit)|(new_df['Age']<lower_limit)]"
   ]
  },
  {
   "cell_type": "markdown",
   "id": "a1a5a343-96ef-4403-b6a4-a701d751e4e9",
   "metadata": {},
   "source": [
    "#### removing outliers by using capping method"
   ]
  },
  {
   "cell_type": "code",
   "execution_count": 93,
   "id": "af535645-9d15-44ba-aa8f-48da2fc3638c",
   "metadata": {},
   "outputs": [],
   "source": [
    "\n",
    "new_df.loc[(new_df[\"Age\"]>upper_limit),\"Age\"]=upper_limit\n",
    "new_df.loc[(new_df[\"Age\"]<lower_limit),\"Age\"]=lower_limit\n"
   ]
  },
  {
   "cell_type": "code",
   "execution_count": 86,
   "id": "a03c0bf5-af18-4f1e-8ff8-301f4ee44034",
   "metadata": {},
   "outputs": [
    {
     "name": "stdout",
     "output_type": "stream",
     "text": [
      "3149.25 , 7084.0 , 3934.75\n"
     ]
    }
   ],
   "source": [
    "q1=df['Salary'].quantile(0.25)\n",
    "q3=df['Salary'].quantile(0.75)\n",
    "iqr=q3-q1\n",
    "print(q1,\",\",q3,\",\",iqr)"
   ]
  },
  {
   "cell_type": "code",
   "execution_count": 87,
   "id": "a401470c-8771-4740-800c-d0b55c5f63b3",
   "metadata": {},
   "outputs": [
    {
     "name": "stdout",
     "output_type": "stream",
     "text": [
      "12986.125 , -2752.875\n"
     ]
    }
   ],
   "source": [
    "upper_limit=q3+1.5*iqr\n",
    "lower_limit=q1-1.5*iqr\n",
    "print(upper_limit,\",\",lower_limit)"
   ]
  },
  {
   "cell_type": "code",
   "execution_count": 88,
   "id": "fd71f1cc-d14f-416c-ae67-074f915184be",
   "metadata": {},
   "outputs": [
    {
     "data": {
      "text/html": [
       "<div>\n",
       "<style scoped>\n",
       "    .dataframe tbody tr th:only-of-type {\n",
       "        vertical-align: middle;\n",
       "    }\n",
       "\n",
       "    .dataframe tbody tr th {\n",
       "        vertical-align: top;\n",
       "    }\n",
       "\n",
       "    .dataframe thead th {\n",
       "        text-align: right;\n",
       "    }\n",
       "</style>\n",
       "<table border=\"1\" class=\"dataframe\">\n",
       "  <thead>\n",
       "    <tr style=\"text-align: right;\">\n",
       "      <th></th>\n",
       "      <th>Company</th>\n",
       "      <th>Age</th>\n",
       "      <th>Salary</th>\n",
       "      <th>City</th>\n",
       "      <th>Country</th>\n",
       "      <th>Gender</th>\n",
       "    </tr>\n",
       "  </thead>\n",
       "  <tbody>\n",
       "  </tbody>\n",
       "</table>\n",
       "</div>"
      ],
      "text/plain": [
       "Empty DataFrame\n",
       "Columns: [Company, Age, Salary, City, Country, Gender]\n",
       "Index: []"
      ]
     },
     "execution_count": 88,
     "metadata": {},
     "output_type": "execute_result"
    }
   ],
   "source": [
    "new_df=df.copy()\n",
    "new_df.loc[(new_df['Salary']>upper_limit)|(new_df['Salary']<lower_limit)]"
   ]
  },
  {
   "cell_type": "markdown",
   "id": "8d9ea718-3fc5-4d87-859e-f51e28f754d2",
   "metadata": {},
   "source": [
    "##### There is no outliers for 'salary' column"
   ]
  },
  {
   "cell_type": "markdown",
   "id": "0a55b7f1-50fb-4ba9-935a-caf1e95c7e24",
   "metadata": {},
   "source": [
    "#### remove the value 0 in age as nan"
   ]
  },
  {
   "cell_type": "code",
   "execution_count": 94,
   "id": "604f4c26-676a-43a0-b391-e10a39b415c2",
   "metadata": {},
   "outputs": [
    {
     "data": {
      "text/plain": [
       "0      20.0\n",
       "1      30.0\n",
       "2      35.0\n",
       "3      40.0\n",
       "4      23.0\n",
       "       ... \n",
       "143    33.0\n",
       "144    22.0\n",
       "145    44.0\n",
       "146    33.0\n",
       "147    22.0\n",
       "Name: Age, Length: 148, dtype: float64"
      ]
     },
     "execution_count": 94,
     "metadata": {},
     "output_type": "execute_result"
    }
   ],
   "source": [
    "new_df.loc[(df['Age']==0),'Age']=np.nan\n",
    "\n",
    "new_df['Age']"
   ]
  },
  {
   "cell_type": "markdown",
   "id": "2ae69886-6943-44ad-a03a-c8f3a13b3167",
   "metadata": {},
   "source": [
    "#### Treating the null values"
   ]
  },
  {
   "cell_type": "code",
   "execution_count": 130,
   "id": "345f696d-c4d4-4759-a237-416ce28e29d5",
   "metadata": {},
   "outputs": [],
   "source": [
    "new_df.loc[(df['Age'].isnull()),'Age']=new_df['Age'].median()"
   ]
  },
  {
   "cell_type": "code",
   "execution_count": 131,
   "id": "b136c7aa-d8ce-46de-8e1b-6792809dd869",
   "metadata": {},
   "outputs": [],
   "source": [
    "df.loc[(df['Salary'].isnull()),'Salary']=df['Salary'].mean()"
   ]
  },
  {
   "cell_type": "code",
   "execution_count": 98,
   "id": "e3f95f1f-8f12-4d59-8382-01228aec9241",
   "metadata": {},
   "outputs": [
    {
     "name": "stderr",
     "output_type": "stream",
     "text": [
      "C:\\Users\\Shajil pc\\AppData\\Local\\Temp\\ipykernel_22540\\3764337308.py:2: FutureWarning: A value is trying to be set on a copy of a DataFrame or Series through chained assignment using an inplace method.\n",
      "The behavior will change in pandas 3.0. This inplace method will never work because the intermediate object on which we are setting values always behaves as a copy.\n",
      "\n",
      "For example, when doing 'df[col].method(value, inplace=True)', try using 'df.method({col: value}, inplace=True)' or df[col] = df[col].method(value) instead, to perform the operation inplace on the original object.\n",
      "\n",
      "\n",
      "  df['Company'].fillna(mode_value,inplace=True)\n"
     ]
    }
   ],
   "source": [
    "mode_value=df['Company'].mode()[0]\n",
    "df['Company'].fillna(mode_value,inplace=True)"
   ]
  },
  {
   "cell_type": "code",
   "execution_count": 100,
   "id": "accd142f-f75b-49d0-b10a-5b2c3ccc78ed",
   "metadata": {},
   "outputs": [
    {
     "name": "stderr",
     "output_type": "stream",
     "text": [
      "C:\\Users\\Shajil pc\\AppData\\Local\\Temp\\ipykernel_22540\\3961943948.py:2: FutureWarning: A value is trying to be set on a copy of a DataFrame or Series through chained assignment using an inplace method.\n",
      "The behavior will change in pandas 3.0. This inplace method will never work because the intermediate object on which we are setting values always behaves as a copy.\n",
      "\n",
      "For example, when doing 'df[col].method(value, inplace=True)', try using 'df.method({col: value}, inplace=True)' or df[col] = df[col].method(value) instead, to perform the operation inplace on the original object.\n",
      "\n",
      "\n",
      "  df['City'].fillna(mode_value2,inplace=True)\n"
     ]
    }
   ],
   "source": [
    "mode_value2=df['City'].mode()[0]\n",
    "df['City'].fillna(mode_value2,inplace=True)"
   ]
  },
  {
   "cell_type": "code",
   "execution_count": 101,
   "id": "bc2a2905-886d-48b2-a110-a3890b5a8662",
   "metadata": {},
   "outputs": [
    {
     "data": {
      "text/plain": [
       "Company    0\n",
       "Age        0\n",
       "Salary     0\n",
       "City       0\n",
       "Country    0\n",
       "Gender     0\n",
       "dtype: int64"
      ]
     },
     "execution_count": 101,
     "metadata": {},
     "output_type": "execute_result"
    }
   ],
   "source": [
    "df.isnull().sum()"
   ]
  },
  {
   "cell_type": "markdown",
   "id": "e69bf55d-5de1-4691-b890-493eb03a6391",
   "metadata": {},
   "source": [
    "### data analysis\n",
    "##### filter the data with age>40 and salary<5000"
   ]
  },
  {
   "cell_type": "code",
   "execution_count": 102,
   "id": "29591c42-184d-4838-b54e-c97166d8ad47",
   "metadata": {},
   "outputs": [
    {
     "data": {
      "text/html": [
       "<div>\n",
       "<style scoped>\n",
       "    .dataframe tbody tr th:only-of-type {\n",
       "        vertical-align: middle;\n",
       "    }\n",
       "\n",
       "    .dataframe tbody tr th {\n",
       "        vertical-align: top;\n",
       "    }\n",
       "\n",
       "    .dataframe thead th {\n",
       "        text-align: right;\n",
       "    }\n",
       "</style>\n",
       "<table border=\"1\" class=\"dataframe\">\n",
       "  <thead>\n",
       "    <tr style=\"text-align: right;\">\n",
       "      <th></th>\n",
       "      <th>Company</th>\n",
       "      <th>Age</th>\n",
       "      <th>Salary</th>\n",
       "      <th>City</th>\n",
       "      <th>Country</th>\n",
       "      <th>Gender</th>\n",
       "    </tr>\n",
       "  </thead>\n",
       "  <tbody>\n",
       "    <tr>\n",
       "      <th>21</th>\n",
       "      <td>Infosys</td>\n",
       "      <td>50.0</td>\n",
       "      <td>3184.0</td>\n",
       "      <td>Delhi</td>\n",
       "      <td>India</td>\n",
       "      <td>0</td>\n",
       "    </tr>\n",
       "    <tr>\n",
       "      <th>32</th>\n",
       "      <td>Infosys</td>\n",
       "      <td>45.0</td>\n",
       "      <td>4034.0</td>\n",
       "      <td>Calcutta</td>\n",
       "      <td>India</td>\n",
       "      <td>0</td>\n",
       "    </tr>\n",
       "    <tr>\n",
       "      <th>39</th>\n",
       "      <td>Infosys</td>\n",
       "      <td>41.0</td>\n",
       "      <td>3000.0</td>\n",
       "      <td>Mumbai</td>\n",
       "      <td>India</td>\n",
       "      <td>0</td>\n",
       "    </tr>\n",
       "    <tr>\n",
       "      <th>50</th>\n",
       "      <td>Infosys</td>\n",
       "      <td>41.0</td>\n",
       "      <td>3000.0</td>\n",
       "      <td>Chennai</td>\n",
       "      <td>India</td>\n",
       "      <td>0</td>\n",
       "    </tr>\n",
       "    <tr>\n",
       "      <th>57</th>\n",
       "      <td>Infosys</td>\n",
       "      <td>51.0</td>\n",
       "      <td>3184.0</td>\n",
       "      <td>Hyderabad</td>\n",
       "      <td>India</td>\n",
       "      <td>0</td>\n",
       "    </tr>\n",
       "    <tr>\n",
       "      <th>68</th>\n",
       "      <td>Infosys</td>\n",
       "      <td>43.0</td>\n",
       "      <td>4034.0</td>\n",
       "      <td>Mumbai</td>\n",
       "      <td>India</td>\n",
       "      <td>0</td>\n",
       "    </tr>\n",
       "    <tr>\n",
       "      <th>75</th>\n",
       "      <td>Infosys</td>\n",
       "      <td>44.0</td>\n",
       "      <td>3000.0</td>\n",
       "      <td>Cochin</td>\n",
       "      <td>India</td>\n",
       "      <td>0</td>\n",
       "    </tr>\n",
       "    <tr>\n",
       "      <th>86</th>\n",
       "      <td>Infosys</td>\n",
       "      <td>41.0</td>\n",
       "      <td>3000.0</td>\n",
       "      <td>Delhi</td>\n",
       "      <td>India</td>\n",
       "      <td>0</td>\n",
       "    </tr>\n",
       "    <tr>\n",
       "      <th>93</th>\n",
       "      <td>Infosys</td>\n",
       "      <td>54.0</td>\n",
       "      <td>3184.0</td>\n",
       "      <td>Mumbai</td>\n",
       "      <td>India</td>\n",
       "      <td>0</td>\n",
       "    </tr>\n",
       "    <tr>\n",
       "      <th>104</th>\n",
       "      <td>Infosys</td>\n",
       "      <td>44.0</td>\n",
       "      <td>4034.0</td>\n",
       "      <td>Delhi</td>\n",
       "      <td>India</td>\n",
       "      <td>0</td>\n",
       "    </tr>\n",
       "    <tr>\n",
       "      <th>122</th>\n",
       "      <td>Infosys</td>\n",
       "      <td>44.0</td>\n",
       "      <td>3234.0</td>\n",
       "      <td>Mumbai</td>\n",
       "      <td>India</td>\n",
       "      <td>0</td>\n",
       "    </tr>\n",
       "    <tr>\n",
       "      <th>129</th>\n",
       "      <td>Infosys</td>\n",
       "      <td>50.0</td>\n",
       "      <td>3184.0</td>\n",
       "      <td>Calcutta</td>\n",
       "      <td>India</td>\n",
       "      <td>0</td>\n",
       "    </tr>\n",
       "    <tr>\n",
       "      <th>138</th>\n",
       "      <td>CTS</td>\n",
       "      <td>44.0</td>\n",
       "      <td>3033.0</td>\n",
       "      <td>Cochin</td>\n",
       "      <td>India</td>\n",
       "      <td>0</td>\n",
       "    </tr>\n",
       "    <tr>\n",
       "      <th>140</th>\n",
       "      <td>Infosys</td>\n",
       "      <td>44.0</td>\n",
       "      <td>4034.0</td>\n",
       "      <td>Hyderabad</td>\n",
       "      <td>India</td>\n",
       "      <td>0</td>\n",
       "    </tr>\n",
       "    <tr>\n",
       "      <th>145</th>\n",
       "      <td>Infosys</td>\n",
       "      <td>44.0</td>\n",
       "      <td>4034.0</td>\n",
       "      <td>Delhi</td>\n",
       "      <td>India</td>\n",
       "      <td>1</td>\n",
       "    </tr>\n",
       "  </tbody>\n",
       "</table>\n",
       "</div>"
      ],
      "text/plain": [
       "     Company   Age  Salary       City Country  Gender\n",
       "21   Infosys  50.0  3184.0      Delhi   India       0\n",
       "32   Infosys  45.0  4034.0   Calcutta   India       0\n",
       "39   Infosys  41.0  3000.0     Mumbai   India       0\n",
       "50   Infosys  41.0  3000.0    Chennai   India       0\n",
       "57   Infosys  51.0  3184.0  Hyderabad   India       0\n",
       "68   Infosys  43.0  4034.0     Mumbai   India       0\n",
       "75   Infosys  44.0  3000.0     Cochin   India       0\n",
       "86   Infosys  41.0  3000.0      Delhi   India       0\n",
       "93   Infosys  54.0  3184.0     Mumbai   India       0\n",
       "104  Infosys  44.0  4034.0      Delhi   India       0\n",
       "122  Infosys  44.0  3234.0     Mumbai   India       0\n",
       "129  Infosys  50.0  3184.0   Calcutta   India       0\n",
       "138      CTS  44.0  3033.0     Cochin   India       0\n",
       "140  Infosys  44.0  4034.0  Hyderabad   India       0\n",
       "145  Infosys  44.0  4034.0      Delhi   India       1"
      ]
     },
     "execution_count": 102,
     "metadata": {},
     "output_type": "execute_result"
    }
   ],
   "source": [
    "filtered_df=new_df[(new_df['Age']>40)&(df['Salary']<5000)]\n",
    "filtered_df"
   ]
  },
  {
   "cell_type": "code",
   "execution_count": 103,
   "id": "6268f09b-871d-40b7-8fcd-88c6a4583889",
   "metadata": {},
   "outputs": [
    {
     "data": {
      "text/plain": [
       "<matplotlib.collections.PathCollection at 0x1a19a9862d0>"
      ]
     },
     "execution_count": 103,
     "metadata": {},
     "output_type": "execute_result"
    },
    {
     "data": {
      "image/png": "[encoded data removed]",
      "text/plain": [
       "<Figure size 640x480 with 1 Axes>"
      ]
     },
     "metadata": {},
     "output_type": "display_data"
    }
   ],
   "source": [
    "plt.scatter(new_df['Age'],df['Salary'],color='green',marker='o')"
   ]
  },
  {
   "cell_type": "markdown",
   "id": "982e3323-d12c-4d71-a60c-72004d4eafac",
   "metadata": {},
   "source": [
    "###### The plot shows clear trend of increasing salary with age along with variability in salaries.In around 20 the salaries seem to be on the lower end.\n",
    "###### A noticeabe increase of salary is observing around 20-25.Around 30-50 indicates some individuals earning morethan others in the same agegroup.\n",
    "###### In 35-55 we can see a decrease in no.of people.In older age group(50+),Salaries stabilize."
   ]
  },
  {
   "cell_type": "markdown",
   "id": "28af5eba-bb09-4abc-ba76-b8872ab9ef60",
   "metadata": {},
   "source": [
    "##### No.of people from each city"
   ]
  },
  {
   "cell_type": "code",
   "execution_count": 104,
   "id": "0eef0053-6a98-4b10-8543-5bbb525a37af",
   "metadata": {},
   "outputs": [
    {
     "data": {
      "text/plain": [
       "City\n",
       "Mumbai        51\n",
       "Calcutta      33\n",
       "Chennai       14\n",
       "Delhi         14\n",
       "Cochin        13\n",
       "Noida          8\n",
       "Hyderabad      8\n",
       "Podicherry     3\n",
       "Pune           2\n",
       "Bhopal         1\n",
       "Nagpur         1\n",
       "Name: count, dtype: int64"
      ]
     },
     "execution_count": 104,
     "metadata": {},
     "output_type": "execute_result"
    }
   ],
   "source": [
    "df['City'].value_counts()"
   ]
  },
  {
   "cell_type": "markdown",
   "id": "40f4d45a-e184-4c23-99be-dd51f5fc985d",
   "metadata": {},
   "source": [
    "#### countplot of no.of people in each city"
   ]
  },
  {
   "cell_type": "code",
   "execution_count": 105,
   "id": "4f5856cd-1668-4811-a896-19cbb2af35a8",
   "metadata": {},
   "outputs": [
    {
     "data": {
      "text/plain": [
       "<Axes: xlabel='City', ylabel='count'>"
      ]
     },
     "execution_count": 105,
     "metadata": {},
     "output_type": "execute_result"
    },
    {
     "data": {
      "image/png": "[encoded data removed]",
      "text/plain": [
       "<Figure size 2000x1000 with 1 Axes>"
      ]
     },
     "metadata": {},
     "output_type": "display_data"
    }
   ],
   "source": [
    "plt.figure(figsize=(20,10))\n",
    "sns.countplot(x=df['City'],data=df)"
   ]
  },
  {
   "cell_type": "markdown",
   "id": "6a545182-0f67-4ecc-8718-9c330cf4ded4",
   "metadata": {},
   "source": [
    "##### Mumbai is the most frequently occuring city in the dataset.\n",
    "##### Bhopal and Nagpur are appears less frequently."
   ]
  },
  {
   "cell_type": "code",
   "execution_count": null,
   "id": "c88728e9-ecff-49d0-8fe0-c11088f4759c",
   "metadata": {},
   "outputs": [],
   "source": [
    "df.columns"
   ]
  },
  {
   "cell_type": "markdown",
   "id": "acbededf-596e-443f-bf99-7b72eab56a24",
   "metadata": {},
   "source": [
    "### Data encoding\n",
    "#### One-hot- encoding"
   ]
  },
  {
   "cell_type": "code",
   "execution_count": 106,
   "id": "4f38f7c2-fe5f-46a3-b699-2b397f53aa3d",
   "metadata": {},
   "outputs": [
    {
     "name": "stdout",
     "output_type": "stream",
     "text": [
      "      Age       Salary  Gender  Company_CTS  Company_Congnizant  \\\n",
      "0    20.0  5312.467742       0        False               False   \n",
      "1    30.0  5312.467742       0        False               False   \n",
      "2    35.0  2300.000000       0        False               False   \n",
      "3    40.0  3000.000000       0        False               False   \n",
      "4    23.0  4000.000000       0        False               False   \n",
      "..    ...          ...     ...          ...                 ...   \n",
      "143  33.0  9024.000000       1        False               False   \n",
      "144  22.0  8787.000000       1        False               False   \n",
      "145  44.0  4034.000000       1        False               False   \n",
      "146  33.0  5034.000000       1        False               False   \n",
      "147  22.0  8202.000000       0        False               False   \n",
      "\n",
      "     Company_Infosys  Company_Infosys Pvt Lmt  Company_TCS  \\\n",
      "0              False                    False         True   \n",
      "1               True                    False        False   \n",
      "2              False                    False         True   \n",
      "3               True                    False        False   \n",
      "4              False                    False         True   \n",
      "..               ...                      ...          ...   \n",
      "143            False                    False         True   \n",
      "144             True                    False        False   \n",
      "145             True                    False        False   \n",
      "146            False                    False         True   \n",
      "147             True                    False        False   \n",
      "\n",
      "     Company_Tata Consultancy Services  City_Bhopal  ...  City_Chennai  \\\n",
      "0                                False        False  ...          True   \n",
      "1                                False        False  ...         False   \n",
      "2                                False        False  ...         False   \n",
      "3                                False        False  ...         False   \n",
      "4                                False        False  ...         False   \n",
      "..                                 ...          ...  ...           ...   \n",
      "143                              False        False  ...         False   \n",
      "144                              False        False  ...         False   \n",
      "145                              False        False  ...         False   \n",
      "146                              False        False  ...         False   \n",
      "147                              False        False  ...         False   \n",
      "\n",
      "     City_Cochin  City_Delhi  City_Hyderabad  City_Mumbai  City_Nagpur  \\\n",
      "0          False       False           False        False        False   \n",
      "1          False       False           False         True        False   \n",
      "2          False       False           False        False        False   \n",
      "3          False        True           False        False        False   \n",
      "4          False       False           False         True        False   \n",
      "..           ...         ...             ...          ...          ...   \n",
      "143        False       False           False        False        False   \n",
      "144        False       False           False        False        False   \n",
      "145        False        True           False        False        False   \n",
      "146        False       False           False         True        False   \n",
      "147         True       False           False        False        False   \n",
      "\n",
      "     City_Noida  City_Podicherry  City_Pune  Country_India  \n",
      "0         False            False      False           True  \n",
      "1         False            False      False           True  \n",
      "2         False            False      False           True  \n",
      "3         False            False      False           True  \n",
      "4         False            False      False           True  \n",
      "..          ...              ...        ...            ...  \n",
      "143       False            False      False           True  \n",
      "144       False            False      False           True  \n",
      "145       False            False      False           True  \n",
      "146       False            False      False           True  \n",
      "147       False            False      False           True  \n",
      "\n",
      "[148 rows x 21 columns]\n"
     ]
    }
   ],
   "source": [
    "df_one_hot_encoded = pd.get_dummies(data = df, columns = [\"Company\", \"City\",\"Country\"])\n",
    "\n",
    "print(df_one_hot_encoded )"
   ]
  },
  {
   "cell_type": "code",
   "execution_count": 107,
   "id": "b8db8621-93eb-4997-be4d-2e1ee4c82a00",
   "metadata": {},
   "outputs": [
    {
     "name": "stdout",
     "output_type": "stream",
     "text": [
      "['is TCS', 'is Infosys', 'is CTS', 'is Tata Consultancy Services', 'is Congnizant', 'is Infosys Pvt Lmt', 'is Chennai', 'is Mumbai', 'is Calcutta', 'is Delhi', 'is Podicherry', 'is Cochin', 'is Noida', 'is Hyderabad', 'is Bhopal', 'is Nagpur', 'is Pune', 'is India']\n",
      "     Company   Age       Salary      City Country  Gender  is TCS  is Infosys  \\\n",
      "0        TCS  20.0  5312.467742   Chennai   India       0     0.0         0.0   \n",
      "1    Infosys  30.0  5312.467742    Mumbai   India       0     0.0         0.0   \n",
      "2        TCS  35.0  2300.000000  Calcutta   India       0     0.0         0.0   \n",
      "3    Infosys  40.0  3000.000000     Delhi   India       0     0.0         0.0   \n",
      "4        TCS  23.0  4000.000000    Mumbai   India       0     0.0         0.0   \n",
      "..       ...   ...          ...       ...     ...     ...     ...         ...   \n",
      "143      TCS  33.0  9024.000000  Calcutta   India       1     0.0         0.0   \n",
      "144  Infosys  22.0  8787.000000  Calcutta   India       1     0.0         0.0   \n",
      "145  Infosys  44.0  4034.000000     Delhi   India       1     0.0         0.0   \n",
      "146      TCS  33.0  5034.000000    Mumbai   India       1     0.0         0.0   \n",
      "147  Infosys  22.0  8202.000000    Cochin   India       0     0.0         0.0   \n",
      "\n",
      "     is CTS  is Tata Consultancy Services  ...  is Calcutta  is Delhi  \\\n",
      "0       0.0                           0.0  ...          1.0       0.0   \n",
      "1       1.0                           0.0  ...          0.0       0.0   \n",
      "2       0.0                           0.0  ...          0.0       0.0   \n",
      "3       1.0                           0.0  ...          0.0       0.0   \n",
      "4       0.0                           0.0  ...          0.0       0.0   \n",
      "..      ...                           ...  ...          ...       ...   \n",
      "143     0.0                           0.0  ...          0.0       0.0   \n",
      "144     1.0                           0.0  ...          0.0       0.0   \n",
      "145     1.0                           0.0  ...          0.0       0.0   \n",
      "146     0.0                           0.0  ...          0.0       0.0   \n",
      "147     1.0                           0.0  ...          0.0       1.0   \n",
      "\n",
      "     is Podicherry  is Cochin  is Noida  is Hyderabad  is Bhopal  is Nagpur  \\\n",
      "0              0.0        0.0       0.0           0.0        0.0        0.0   \n",
      "1              0.0        0.0       1.0           0.0        0.0        0.0   \n",
      "2              0.0        0.0       0.0           0.0        0.0        0.0   \n",
      "3              1.0        0.0       0.0           0.0        0.0        0.0   \n",
      "4              0.0        0.0       1.0           0.0        0.0        0.0   \n",
      "..             ...        ...       ...           ...        ...        ...   \n",
      "143            0.0        0.0       0.0           0.0        0.0        0.0   \n",
      "144            0.0        0.0       0.0           0.0        0.0        0.0   \n",
      "145            1.0        0.0       0.0           0.0        0.0        0.0   \n",
      "146            0.0        0.0       1.0           0.0        0.0        0.0   \n",
      "147            0.0        0.0       0.0           0.0        0.0        0.0   \n",
      "\n",
      "     is Pune  is India  \n",
      "0        0.0       1.0  \n",
      "1        0.0       1.0  \n",
      "2        0.0       1.0  \n",
      "3        0.0       1.0  \n",
      "4        0.0       1.0  \n",
      "..       ...       ...  \n",
      "143      0.0       1.0  \n",
      "144      0.0       1.0  \n",
      "145      0.0       1.0  \n",
      "146      0.0       1.0  \n",
      "147      0.0       1.0  \n",
      "\n",
      "[148 rows x 24 columns]\n"
     ]
    }
   ],
   "source": [
    "from sklearn.preprocessing import OneHotEncoder\n",
    "columns_to_encode=[\"Company\", \"City\",\"Country\"]\n",
    "new_encoded_columns_names=[]\n",
    "for columns in columns_to_encode:\n",
    "    new_encoded_columns_names+=[f\"is {category}\" for category in df[columns].unique().tolist()]\n",
    "print(new_encoded_columns_names)\n",
    "\n",
    "one_hot_encoder = OneHotEncoder(sparse_output = False, handle_unknown = 'ignore')\n",
    "encoded_columns = one_hot_encoder.fit_transform(df[columns_to_encode])\n",
    "\n",
    "df_encoded = pd.DataFrame(encoded_columns, columns = new_encoded_columns_names)\n",
    "df_one_hot_encoded = df.join(df_encoded)\n",
    "\n",
    "print(df_one_hot_encoded)\n"
   ]
  },
  {
   "cell_type": "markdown",
   "id": "68e59391-1554-487d-9638-55c7fa931fc7",
   "metadata": {},
   "source": [
    "#### Label encoding"
   ]
  },
  {
   "cell_type": "code",
   "execution_count": 108,
   "id": "4b6857ec-ac83-4c38-a045-a658f22f5648",
   "metadata": {},
   "outputs": [],
   "source": [
    "from sklearn.preprocessing import LabelEncoder\n",
    "label_encoder = LabelEncoder()\n",
    "for i in df:\n",
    "    df[i] = label_encoder.fit_transform(df[i])"
   ]
  },
  {
   "cell_type": "code",
   "execution_count": 109,
   "id": "82b5f2b1-457d-4bbd-962a-1cb122a72ab0",
   "metadata": {},
   "outputs": [
    {
     "data": {
      "text/plain": [
       "City\n",
       "6     51\n",
       "1     33\n",
       "2     14\n",
       "4     14\n",
       "3     13\n",
       "8      8\n",
       "5      8\n",
       "9      3\n",
       "10     2\n",
       "0      1\n",
       "7      1\n",
       "Name: count, dtype: int64"
      ]
     },
     "execution_count": 109,
     "metadata": {},
     "output_type": "execute_result"
    }
   ],
   "source": [
    "df.City.value_counts()"
   ]
  },
  {
   "cell_type": "code",
   "execution_count": 117,
   "id": "c20993c1-d979-491a-8136-01a22204eb06",
   "metadata": {},
   "outputs": [
    {
     "data": {
      "text/html": [
       "<div>\n",
       "<style scoped>\n",
       "    .dataframe tbody tr th:only-of-type {\n",
       "        vertical-align: middle;\n",
       "    }\n",
       "\n",
       "    .dataframe tbody tr th {\n",
       "        vertical-align: top;\n",
       "    }\n",
       "\n",
       "    .dataframe thead th {\n",
       "        text-align: right;\n",
       "    }\n",
       "</style>\n",
       "<table border=\"1\" class=\"dataframe\">\n",
       "  <thead>\n",
       "    <tr style=\"text-align: right;\">\n",
       "      <th></th>\n",
       "      <th>Company</th>\n",
       "      <th>Age</th>\n",
       "      <th>Salary</th>\n",
       "      <th>City</th>\n",
       "      <th>Country</th>\n",
       "      <th>Gender</th>\n",
       "    </tr>\n",
       "  </thead>\n",
       "  <tbody>\n",
       "    <tr>\n",
       "      <th>0</th>\n",
       "      <td>4</td>\n",
       "      <td>4</td>\n",
       "      <td>21</td>\n",
       "      <td>2</td>\n",
       "      <td>0</td>\n",
       "      <td>0</td>\n",
       "    </tr>\n",
       "    <tr>\n",
       "      <th>1</th>\n",
       "      <td>2</td>\n",
       "      <td>11</td>\n",
       "      <td>21</td>\n",
       "      <td>6</td>\n",
       "      <td>0</td>\n",
       "      <td>0</td>\n",
       "    </tr>\n",
       "    <tr>\n",
       "      <th>2</th>\n",
       "      <td>4</td>\n",
       "      <td>17</td>\n",
       "      <td>3</td>\n",
       "      <td>1</td>\n",
       "      <td>0</td>\n",
       "      <td>0</td>\n",
       "    </tr>\n",
       "    <tr>\n",
       "      <th>3</th>\n",
       "      <td>2</td>\n",
       "      <td>21</td>\n",
       "      <td>5</td>\n",
       "      <td>4</td>\n",
       "      <td>0</td>\n",
       "      <td>0</td>\n",
       "    </tr>\n",
       "    <tr>\n",
       "      <th>4</th>\n",
       "      <td>4</td>\n",
       "      <td>7</td>\n",
       "      <td>12</td>\n",
       "      <td>6</td>\n",
       "      <td>0</td>\n",
       "      <td>0</td>\n",
       "    </tr>\n",
       "    <tr>\n",
       "      <th>...</th>\n",
       "      <td>...</td>\n",
       "      <td>...</td>\n",
       "      <td>...</td>\n",
       "      <td>...</td>\n",
       "      <td>...</td>\n",
       "      <td>...</td>\n",
       "    </tr>\n",
       "    <tr>\n",
       "      <th>143</th>\n",
       "      <td>4</td>\n",
       "      <td>15</td>\n",
       "      <td>38</td>\n",
       "      <td>1</td>\n",
       "      <td>0</td>\n",
       "      <td>1</td>\n",
       "    </tr>\n",
       "    <tr>\n",
       "      <th>144</th>\n",
       "      <td>2</td>\n",
       "      <td>6</td>\n",
       "      <td>35</td>\n",
       "      <td>1</td>\n",
       "      <td>0</td>\n",
       "      <td>1</td>\n",
       "    </tr>\n",
       "    <tr>\n",
       "      <th>145</th>\n",
       "      <td>2</td>\n",
       "      <td>24</td>\n",
       "      <td>13</td>\n",
       "      <td>4</td>\n",
       "      <td>0</td>\n",
       "      <td>1</td>\n",
       "    </tr>\n",
       "    <tr>\n",
       "      <th>146</th>\n",
       "      <td>4</td>\n",
       "      <td>15</td>\n",
       "      <td>19</td>\n",
       "      <td>6</td>\n",
       "      <td>0</td>\n",
       "      <td>1</td>\n",
       "    </tr>\n",
       "    <tr>\n",
       "      <th>147</th>\n",
       "      <td>2</td>\n",
       "      <td>6</td>\n",
       "      <td>33</td>\n",
       "      <td>3</td>\n",
       "      <td>0</td>\n",
       "      <td>0</td>\n",
       "    </tr>\n",
       "  </tbody>\n",
       "</table>\n",
       "<p>148 rows × 6 columns</p>\n",
       "</div>"
      ],
      "text/plain": [
       "     Company  Age  Salary  City  Country  Gender\n",
       "0          4    4      21     2        0       0\n",
       "1          2   11      21     6        0       0\n",
       "2          4   17       3     1        0       0\n",
       "3          2   21       5     4        0       0\n",
       "4          4    7      12     6        0       0\n",
       "..       ...  ...     ...   ...      ...     ...\n",
       "143        4   15      38     1        0       1\n",
       "144        2    6      35     1        0       1\n",
       "145        2   24      13     4        0       1\n",
       "146        4   15      19     6        0       1\n",
       "147        2    6      33     3        0       0\n",
       "\n",
       "[148 rows x 6 columns]"
      ]
     },
     "execution_count": 117,
     "metadata": {},
     "output_type": "execute_result"
    }
   ],
   "source": [
    "df"
   ]
  },
  {
   "cell_type": "markdown",
   "id": "577e0b9c-2a69-4497-b15e-4228093eb46f",
   "metadata": {},
   "source": [
    "### Feature selection"
   ]
  },
  {
   "cell_type": "code",
   "execution_count": 111,
   "id": "7a60136c-294f-4a7f-8d72-bed1764f139c",
   "metadata": {},
   "outputs": [
    {
     "name": "stdout",
     "output_type": "stream",
     "text": [
      "[[ 1.00048647 -1.28150146  0.12933898 -0.90153168  0.         -0.53568323]\n",
      " [-0.23344684 -0.31735076  0.12933898  0.74571139  0.         -0.53568323]\n",
      " [ 1.00048647  0.50906412 -1.38854223 -1.31334245  0.         -0.53568323]\n",
      " [-0.23344684  1.06000738 -1.21988876 -0.07791015  0.         -0.53568323]\n",
      " [ 1.00048647 -0.86829402 -0.62960163  0.74571139  0.         -0.53568323]\n",
      " [-0.23344684 -0.17961495 -0.20796796 -1.31334245  0.         -0.53568323]\n",
      " [ 1.00048647 -0.17961495  0.55097264 -0.90153168  0.          1.86677489]\n",
      " [-0.23344684 -0.86829402  0.80395284  0.74571139  0.          1.86677489]\n",
      " [ 1.00048647  0.37132831  1.05693305 -1.31334245  0.          1.86677489]\n",
      " [-1.46738015  1.61095063  1.47856671 -0.07791015  0.         -0.53568323]\n",
      " [-1.46738015 -0.86829402  0.12933898  0.74571139  0.         -0.53568323]\n",
      " [-1.46738015  0.37132831 -1.64152243 -1.31334245  0.         -0.53568323]\n",
      " [-1.46738015  1.61095063  0.12933898 -0.90153168  0.         -0.53568323]\n",
      " [-1.46738015 -1.55697308 -1.55719569  0.74571139  0.         -0.53568323]\n",
      " [-0.23344684  1.06000738 -1.21988876 -1.31334245  0.         -0.53568323]\n",
      " [ 1.00048647 -0.86829402 -1.21988876 -0.07791015  0.         -0.53568323]\n",
      " [-0.23344684 -0.86829402 -1.13556203  1.98114369  0.         -0.53568323]\n",
      " [ 1.00048647  0.37132831 -0.20796796 -0.48972091  0.         -0.53568323]\n",
      " [ 1.00048647 -1.00602983  0.12933898 -0.90153168  0.         -0.53568323]\n",
      " [-0.23344684  0.09585668  0.12933898  0.74571139  0.         -0.53568323]\n",
      " [ 1.00048647  0.78453575 -0.96690856 -1.31334245  0.         -0.53568323]\n",
      " [-0.23344684  1.88642226 -0.88258183 -0.07791015  0.         -0.53568323]\n",
      " [ 1.00048647 -1.14376564 -0.29229469  0.74571139  0.         -0.53568323]\n",
      " [-0.23344684 -0.17961495  0.46664591 -0.48972091  0.         -0.53568323]\n",
      " [ 1.00048647 -0.17961495  0.88827958 -0.90153168  0.          1.86677489]\n",
      " [-0.23344684 -0.86829402  1.39423998  0.74571139  0.          1.86677489]\n",
      " [ 1.00048647  0.37132831  1.22558651 -1.31334245  0.          1.86677489]\n",
      " [-1.46738015  1.61095063  1.64722018 -0.07791015  0.          1.86677489]\n",
      " [-1.46738015 -0.86829402  1.73154691  0.74571139  0.          1.86677489]\n",
      " [-1.46738015  0.50906412 -1.47286896 -0.48972091  0.         -0.53568323]\n",
      " [-1.46738015  1.74868645  0.97260631 -0.90153168  0.         -0.53568323]\n",
      " [-1.46738015 -1.28150146 -1.30421549  0.74571139  0.         -0.53568323]\n",
      " [-0.23344684  1.61095063 -0.54527489 -1.31334245  0.         -0.53568323]\n",
      " [ 1.00048647  0.64679994 -0.03931449  0.74571139  0.         -0.53568323]\n",
      " [-0.23344684 -0.45508657  1.14125978  0.74571139  0.         -0.53568323]\n",
      " [ 1.00048647  0.50906412  1.56289345  0.74571139  0.          1.86677489]\n",
      " [ 1.00048647  0.09585668  0.12933898  1.56933292  0.         -0.53568323]\n",
      " [ 1.00048647  0.50906412  0.12933898  0.33390062  0.         -0.53568323]\n",
      " [ 1.00048647  0.37132831 -1.38854223 -1.31334245  0.         -0.53568323]\n",
      " [-0.23344684  1.19774319 -1.21988876  0.74571139  0.         -0.53568323]\n",
      " [ 1.00048647 -0.7305582  -0.37662142 -1.31334245  0.         -0.53568323]\n",
      " [-0.23344684 -0.17961495 -0.20796796  0.74571139  0.         -0.53568323]\n",
      " [ 1.00048647 -0.17961495  0.55097264  0.74571139  0.         -0.53568323]\n",
      " [-0.23344684 -0.59282239  0.80395284  0.74571139  0.         -0.53568323]\n",
      " [ 1.00048647  0.50906412  1.05693305  1.56933292  0.          1.86677489]\n",
      " [-1.46738015  1.74868645  1.47856671  0.33390062  0.          1.86677489]\n",
      " [-1.46738015 -0.7305582   0.12933898 -1.31334245  0.         -0.53568323]\n",
      " [-1.46738015  0.09585668 -1.64152243  0.74571139  0.         -0.53568323]\n",
      " [-1.46738015  1.335479    0.12933898  0.74571139  0.         -0.53568323]\n",
      " [-1.46738015 -1.41923727 -1.55719569 -0.48972091  0.         -0.53568323]\n",
      " [-0.23344684  1.19774319 -1.21988876 -0.90153168  0.         -0.53568323]\n",
      " [ 1.00048647 -0.7305582  -1.21988876  0.74571139  0.         -0.53568323]\n",
      " [-0.23344684 -1.14376564 -1.13556203 -1.31334245  0.         -0.53568323]\n",
      " [ 1.00048647  0.50906412 -0.20796796 -0.07791015  0.         -0.53568323]\n",
      " [ 1.00048647 -1.14376564  0.71962611  0.74571139  0.         -0.53568323]\n",
      " [-0.23344684  0.09585668  0.97260631 -0.48972091  0.         -0.53568323]\n",
      " [ 1.00048647  0.92227156 -0.96690856  1.56933292  0.         -0.53568323]\n",
      " [-0.23344684  2.02415807 -0.88258183  0.33390062  0.         -0.53568323]\n",
      " [ 1.00048647 -0.86829402 -0.29229469 -1.31334245  0.         -0.53568323]\n",
      " [-0.23344684 -0.17961495  0.46664591  0.74571139  0.         -0.53568323]\n",
      " [ 1.00048647 -0.17961495  0.88827958 -1.31334245  0.         -0.53568323]\n",
      " [ 1.00048647 -0.59282239  1.39423998  0.74571139  0.          1.86677489]\n",
      " [ 1.61745312  0.64679994  1.22558651  0.74571139  0.          1.86677489]\n",
      " [-1.46738015  1.19774319  1.64722018  0.74571139  0.          1.86677489]\n",
      " [ 1.00048647 -0.59282239  0.63529938  1.56933292  0.         -0.53568323]\n",
      " [-1.46738015 -0.04187913 -1.47286896  0.33390062  0.         -0.53568323]\n",
      " [-1.46738015  1.19774319  0.12933898 -1.31334245  0.         -0.53568323]\n",
      " [-0.8504135  -1.14376564 -1.30421549  0.74571139  0.         -0.53568323]\n",
      " [-0.23344684  1.335479   -0.54527489  0.74571139  0.         -0.53568323]\n",
      " [ 1.00048647  0.09585668 -0.03931449 -0.48972091  0.         -0.53568323]\n",
      " [ 0.38351981 -1.14376564  1.14125978 -0.90153168  0.         -0.53568323]\n",
      " [ 1.00048647  0.37132831  1.56289345  0.74571139  0.          1.86677489]\n",
      " [ 1.00048647 -0.7305582   0.12933898 -1.31334245  0.         -0.53568323]\n",
      " [-0.23344684  0.37132831  0.12933898 -0.07791015  0.         -0.53568323]\n",
      " [ 1.00048647  0.78453575 -1.38854223  0.74571139  0.         -0.53568323]\n",
      " [-0.23344684  1.47321482 -1.21988876 -0.48972091  0.         -0.53568323]\n",
      " [ 1.00048647  0.09585668 -0.62960163  1.56933292  0.         -0.53568323]\n",
      " [-0.23344684 -0.17961495 -0.20796796  0.33390062  0.         -0.53568323]\n",
      " [ 1.00048647 -0.17961495  0.55097264 -1.31334245  0.         -0.53568323]\n",
      " [-0.23344684 -0.45508657  0.80395284 -1.72515321  0.         -0.53568323]\n",
      " [ 1.00048647  0.09585668  1.05693305  1.15752216  0.         -0.53568323]\n",
      " [-1.46738015  1.335479    1.47856671  2.39295446  0.          1.86677489]\n",
      " [-1.46738015 -1.00602983  0.12933898  2.39295446  0.         -0.53568323]\n",
      " [-1.46738015  0.23359249 -1.64152243 -0.90153168  0.         -0.53568323]\n",
      " [-1.46738015  1.335479    0.12933898  0.74571139  0.         -0.53568323]\n",
      " [-1.46738015 -1.6947089  -1.55719569 -1.31334245  0.         -0.53568323]\n",
      " [-0.23344684  1.19774319 -1.21988876 -0.07791015  0.         -0.53568323]\n",
      " [ 1.00048647 -1.14376564 -1.21988876  0.74571139  0.         -0.53568323]\n",
      " [-0.23344684 -1.83244471 -1.13556203 -1.31334245  0.         -0.53568323]\n",
      " [ 1.00048647  0.64679994 -0.20796796 -0.90153168  0.         -0.53568323]\n",
      " [ 1.00048647 -1.14376564  0.12933898  0.74571139  0.         -0.53568323]\n",
      " [-0.23344684  0.37132831  0.12933898 -1.31334245  0.         -0.53568323]\n",
      " [ 1.00048647 -1.83244471 -0.96690856 -0.07791015  0.         -0.53568323]\n",
      " [-0.23344684  2.16189389 -0.88258183  0.74571139  0.         -0.53568323]\n",
      " [ 1.00048647 -1.00602983 -0.29229469 -1.31334245  0.         -0.53568323]\n",
      " [-0.23344684 -0.17961495  0.46664591 -0.90153168  0.         -0.53568323]\n",
      " [ 1.00048647 -0.17961495  0.88827958  0.74571139  0.          1.86677489]\n",
      " [-0.23344684 -1.00602983  1.39423998 -1.31334245  0.          1.86677489]\n",
      " [ 1.00048647  0.23359249  1.22558651 -0.07791015  0.          1.86677489]\n",
      " [-1.46738015  1.47321482  1.64722018  1.98114369  0.          1.86677489]\n",
      " [-1.46738015 -1.00602983  0.12933898 -0.48972091  0.         -0.53568323]\n",
      " [-1.46738015 -1.83244471 -1.47286896  1.98114369  0.         -0.53568323]\n",
      " [-1.46738015  1.47321482  0.12933898  0.74571139  0.         -0.53568323]\n",
      " [-1.46738015 -1.00602983 -1.30421549 -1.31334245  0.         -0.53568323]\n",
      " [-0.23344684  1.47321482 -0.54527489 -0.07791015  0.         -0.53568323]\n",
      " [ 1.00048647  0.23359249 -0.03931449  0.74571139  0.         -0.53568323]\n",
      " [-0.23344684 -1.00602983  1.14125978 -0.48972091  0.          1.86677489]\n",
      " [ 1.00048647 -1.83244471  1.56289345 -0.90153168  0.          1.86677489]\n",
      " [ 1.00048647  0.23359249  0.12933898  0.74571139  0.         -0.53568323]\n",
      " [ 1.00048647  0.23359249  0.12933898 -1.31334245  0.         -0.53568323]\n",
      " [ 1.00048647  0.23359249 -1.38854223 -0.07791015  0.         -0.53568323]\n",
      " [-0.23344684 -1.83244471 -0.79825509  0.74571139  0.         -0.53568323]\n",
      " [ 1.00048647 -1.00602983 -0.46094816 -0.48972091  0.         -0.53568323]\n",
      " [-0.23344684 -0.17961495  0.21366571 -0.90153168  0.         -0.53568323]\n",
      " [ 1.00048647 -0.17961495  0.29799244  0.74571139  0.         -0.53568323]\n",
      " [-0.23344684 -1.00602983  1.30991325 -1.31334245  0.         -0.53568323]\n",
      " [ 1.00048647  0.23359249  1.30991325  0.74571139  0.          1.86677489]\n",
      " [-1.46738015  1.47321482  1.73154691  0.74571139  0.          1.86677489]\n",
      " [-1.46738015 -1.00602983  0.12933898  0.74571139  0.         -0.53568323]\n",
      " [-1.46738015  0.23359249 -1.64152243  1.56933292  0.         -0.53568323]\n",
      " [-1.46738015  1.47321482  0.12933898  0.33390062  0.         -0.53568323]\n",
      " [-1.46738015 -1.83244471 -1.55719569 -1.31334245  0.         -0.53568323]\n",
      " [-0.23344684  1.47321482 -0.79825509  0.74571139  0.         -0.53568323]\n",
      " [ 1.00048647 -0.17961495 -0.71392836 -1.31334245  0.         -0.53568323]\n",
      " [-0.23344684 -1.00602983  1.30991325 -1.31334245  0.          1.86677489]\n",
      " [ 1.00048647  0.23359249  0.38231918  0.74571139  0.          1.86677489]\n",
      " [ 1.00048647 -1.28150146 -0.12364122  0.74571139  0.          1.86677489]\n",
      " [-0.23344684 -0.31735076  0.04501224  1.56933292  0.         -0.53568323]\n",
      " [ 1.00048647  0.23359249 -0.96690856  0.33390062  0.         -0.53568323]\n",
      " [-0.23344684  1.88642226 -0.88258183 -1.31334245  0.         -0.53568323]\n",
      " [ 1.00048647 -1.14376564 -0.29229469  0.74571139  0.         -0.53568323]\n",
      " [-0.23344684 -0.17961495  0.46664591  0.74571139  0.         -0.53568323]\n",
      " [ 1.00048647 -0.17961495  0.88827958 -0.48972091  0.          1.86677489]\n",
      " [ 1.00048647 -1.00602983  1.39423998 -0.90153168  0.         -0.53568323]\n",
      " [ 1.61745312 -0.04187913  1.22558651  0.74571139  0.         -0.53568323]\n",
      " [-1.46738015  1.06000738  1.64722018 -1.31334245  0.          1.86677489]\n",
      " [ 1.00048647 -0.17961495  0.12933898 -0.07791015  0.         -0.53568323]\n",
      " [-1.46738015 -0.04187913 -1.47286896  0.74571139  0.         -0.53568323]\n",
      " [-1.46738015  1.47321482 -1.05123529 -0.48972091  0.         -0.53568323]\n",
      " [-0.8504135  -1.00602983 -1.30421549  1.56933292  0.         -0.53568323]\n",
      " [-0.23344684  1.47321482 -0.54527489  0.33390062  0.         -0.53568323]\n",
      " [ 1.00048647  0.23359249 -0.03931449 -1.31334245  0.         -0.53568323]\n",
      " [ 0.38351981 -1.00602983  1.14125978  0.74571139  0.         -0.53568323]\n",
      " [ 1.00048647  0.23359249  1.56289345 -1.31334245  0.          1.86677489]\n",
      " [-0.23344684 -1.00602983  1.30991325 -1.31334245  0.          1.86677489]\n",
      " [-0.23344684  1.47321482 -0.54527489 -0.07791015  0.          1.86677489]\n",
      " [ 1.00048647  0.23359249 -0.03931449  0.74571139  0.          1.86677489]\n",
      " [-0.23344684 -1.00602983  1.14125978 -0.48972091  0.         -0.53568323]]\n"
     ]
    }
   ],
   "source": [
    "from sklearn.preprocessing import StandardScaler\n",
    "scaler = StandardScaler()\n",
    "scaler.fit(df)\n",
    "scaled_data = scaler.transform(df)\n",
    "print(scaled_data)"
   ]
  },
  {
   "cell_type": "code",
   "execution_count": 118,
   "id": "a90ddd9c-8c18-4f04-90e2-163a0680b649",
   "metadata": {},
   "outputs": [
    {
     "name": "stdout",
     "output_type": "stream",
     "text": [
      "[[0.8        0.13793103 0.525      0.2        0.         0.        ]\n",
      " [0.4        0.37931034 0.525      0.6        0.         0.        ]\n",
      " [0.8        0.5862069  0.075      0.1        0.         0.        ]\n",
      " [0.4        0.72413793 0.125      0.4        0.         0.        ]\n",
      " [0.8        0.24137931 0.3        0.6        0.         0.        ]\n",
      " [0.4        0.4137931  0.425      0.1        0.         0.        ]\n",
      " [0.8        0.4137931  0.65       0.2        0.         1.        ]\n",
      " [0.4        0.24137931 0.725      0.6        0.         1.        ]\n",
      " [0.8        0.55172414 0.8        0.1        0.         1.        ]\n",
      " [0.         0.86206897 0.925      0.4        0.         0.        ]\n",
      " [0.         0.24137931 0.525      0.6        0.         0.        ]\n",
      " [0.         0.55172414 0.         0.1        0.         0.        ]\n",
      " [0.         0.86206897 0.525      0.2        0.         0.        ]\n",
      " [0.         0.06896552 0.025      0.6        0.         0.        ]\n",
      " [0.4        0.72413793 0.125      0.1        0.         0.        ]\n",
      " [0.8        0.24137931 0.125      0.4        0.         0.        ]\n",
      " [0.4        0.24137931 0.15       0.9        0.         0.        ]\n",
      " [0.8        0.55172414 0.425      0.3        0.         0.        ]\n",
      " [0.8        0.20689655 0.525      0.2        0.         0.        ]\n",
      " [0.4        0.48275862 0.525      0.6        0.         0.        ]\n",
      " [0.8        0.65517241 0.2        0.1        0.         0.        ]\n",
      " [0.4        0.93103448 0.225      0.4        0.         0.        ]\n",
      " [0.8        0.17241379 0.4        0.6        0.         0.        ]\n",
      " [0.4        0.4137931  0.625      0.3        0.         0.        ]\n",
      " [0.8        0.4137931  0.75       0.2        0.         1.        ]\n",
      " [0.4        0.24137931 0.9        0.6        0.         1.        ]\n",
      " [0.8        0.55172414 0.85       0.1        0.         1.        ]\n",
      " [0.         0.86206897 0.975      0.4        0.         1.        ]\n",
      " [0.         0.24137931 1.         0.6        0.         1.        ]\n",
      " [0.         0.5862069  0.05       0.3        0.         0.        ]\n",
      " [0.         0.89655172 0.775      0.2        0.         0.        ]\n",
      " [0.         0.13793103 0.1        0.6        0.         0.        ]\n",
      " [0.4        0.86206897 0.325      0.1        0.         0.        ]\n",
      " [0.8        0.62068966 0.475      0.6        0.         0.        ]\n",
      " [0.4        0.34482759 0.825      0.6        0.         0.        ]\n",
      " [0.8        0.5862069  0.95       0.6        0.         1.        ]\n",
      " [0.8        0.48275862 0.525      0.8        0.         0.        ]\n",
      " [0.8        0.5862069  0.525      0.5        0.         0.        ]\n",
      " [0.8        0.55172414 0.075      0.1        0.         0.        ]\n",
      " [0.4        0.75862069 0.125      0.6        0.         0.        ]\n",
      " [0.8        0.27586207 0.375      0.1        0.         0.        ]\n",
      " [0.4        0.4137931  0.425      0.6        0.         0.        ]\n",
      " [0.8        0.4137931  0.65       0.6        0.         0.        ]\n",
      " [0.4        0.31034483 0.725      0.6        0.         0.        ]\n",
      " [0.8        0.5862069  0.8        0.8        0.         1.        ]\n",
      " [0.         0.89655172 0.925      0.5        0.         1.        ]\n",
      " [0.         0.27586207 0.525      0.1        0.         0.        ]\n",
      " [0.         0.48275862 0.         0.6        0.         0.        ]\n",
      " [0.         0.79310345 0.525      0.6        0.         0.        ]\n",
      " [0.         0.10344828 0.025      0.3        0.         0.        ]\n",
      " [0.4        0.75862069 0.125      0.2        0.         0.        ]\n",
      " [0.8        0.27586207 0.125      0.6        0.         0.        ]\n",
      " [0.4        0.17241379 0.15       0.1        0.         0.        ]\n",
      " [0.8        0.5862069  0.425      0.4        0.         0.        ]\n",
      " [0.8        0.17241379 0.7        0.6        0.         0.        ]\n",
      " [0.4        0.48275862 0.775      0.3        0.         0.        ]\n",
      " [0.8        0.68965517 0.2        0.8        0.         0.        ]\n",
      " [0.4        0.96551724 0.225      0.5        0.         0.        ]\n",
      " [0.8        0.24137931 0.4        0.1        0.         0.        ]\n",
      " [0.4        0.4137931  0.625      0.6        0.         0.        ]\n",
      " [0.8        0.4137931  0.75       0.1        0.         0.        ]\n",
      " [0.8        0.31034483 0.9        0.6        0.         1.        ]\n",
      " [1.         0.62068966 0.85       0.6        0.         1.        ]\n",
      " [0.         0.75862069 0.975      0.6        0.         1.        ]\n",
      " [0.8        0.31034483 0.675      0.8        0.         0.        ]\n",
      " [0.         0.44827586 0.05       0.5        0.         0.        ]\n",
      " [0.         0.75862069 0.525      0.1        0.         0.        ]\n",
      " [0.2        0.17241379 0.1        0.6        0.         0.        ]\n",
      " [0.4        0.79310345 0.325      0.6        0.         0.        ]\n",
      " [0.8        0.48275862 0.475      0.3        0.         0.        ]\n",
      " [0.6        0.17241379 0.825      0.2        0.         0.        ]\n",
      " [0.8        0.55172414 0.95       0.6        0.         1.        ]\n",
      " [0.8        0.27586207 0.525      0.1        0.         0.        ]\n",
      " [0.4        0.55172414 0.525      0.4        0.         0.        ]\n",
      " [0.8        0.65517241 0.075      0.6        0.         0.        ]\n",
      " [0.4        0.82758621 0.125      0.3        0.         0.        ]\n",
      " [0.8        0.48275862 0.3        0.8        0.         0.        ]\n",
      " [0.4        0.4137931  0.425      0.5        0.         0.        ]\n",
      " [0.8        0.4137931  0.65       0.1        0.         0.        ]\n",
      " [0.4        0.34482759 0.725      0.         0.         0.        ]\n",
      " [0.8        0.48275862 0.8        0.7        0.         0.        ]\n",
      " [0.         0.79310345 0.925      1.         0.         1.        ]\n",
      " [0.         0.20689655 0.525      1.         0.         0.        ]\n",
      " [0.         0.51724138 0.         0.2        0.         0.        ]\n",
      " [0.         0.79310345 0.525      0.6        0.         0.        ]\n",
      " [0.         0.03448276 0.025      0.1        0.         0.        ]\n",
      " [0.4        0.75862069 0.125      0.4        0.         0.        ]\n",
      " [0.8        0.17241379 0.125      0.6        0.         0.        ]\n",
      " [0.4        0.         0.15       0.1        0.         0.        ]\n",
      " [0.8        0.62068966 0.425      0.2        0.         0.        ]\n",
      " [0.8        0.17241379 0.525      0.6        0.         0.        ]\n",
      " [0.4        0.55172414 0.525      0.1        0.         0.        ]\n",
      " [0.8        0.         0.2        0.4        0.         0.        ]\n",
      " [0.4        1.         0.225      0.6        0.         0.        ]\n",
      " [0.8        0.20689655 0.4        0.1        0.         0.        ]\n",
      " [0.4        0.4137931  0.625      0.2        0.         0.        ]\n",
      " [0.8        0.4137931  0.75       0.6        0.         1.        ]\n",
      " [0.4        0.20689655 0.9        0.1        0.         1.        ]\n",
      " [0.8        0.51724138 0.85       0.4        0.         1.        ]\n",
      " [0.         0.82758621 0.975      0.9        0.         1.        ]\n",
      " [0.         0.20689655 0.525      0.3        0.         0.        ]\n",
      " [0.         0.         0.05       0.9        0.         0.        ]\n",
      " [0.         0.82758621 0.525      0.6        0.         0.        ]\n",
      " [0.         0.20689655 0.1        0.1        0.         0.        ]\n",
      " [0.4        0.82758621 0.325      0.4        0.         0.        ]\n",
      " [0.8        0.51724138 0.475      0.6        0.         0.        ]\n",
      " [0.4        0.20689655 0.825      0.3        0.         1.        ]\n",
      " [0.8        0.         0.95       0.2        0.         1.        ]\n",
      " [0.8        0.51724138 0.525      0.6        0.         0.        ]\n",
      " [0.8        0.51724138 0.525      0.1        0.         0.        ]\n",
      " [0.8        0.51724138 0.075      0.4        0.         0.        ]\n",
      " [0.4        0.         0.25       0.6        0.         0.        ]\n",
      " [0.8        0.20689655 0.35       0.3        0.         0.        ]\n",
      " [0.4        0.4137931  0.55       0.2        0.         0.        ]\n",
      " [0.8        0.4137931  0.575      0.6        0.         0.        ]\n",
      " [0.4        0.20689655 0.875      0.1        0.         0.        ]\n",
      " [0.8        0.51724138 0.875      0.6        0.         1.        ]\n",
      " [0.         0.82758621 1.         0.6        0.         1.        ]\n",
      " [0.         0.20689655 0.525      0.6        0.         0.        ]\n",
      " [0.         0.51724138 0.         0.8        0.         0.        ]\n",
      " [0.         0.82758621 0.525      0.5        0.         0.        ]\n",
      " [0.         0.         0.025      0.1        0.         0.        ]\n",
      " [0.4        0.82758621 0.25       0.6        0.         0.        ]\n",
      " [0.8        0.4137931  0.275      0.1        0.         0.        ]\n",
      " [0.4        0.20689655 0.875      0.1        0.         1.        ]\n",
      " [0.8        0.51724138 0.6        0.6        0.         1.        ]\n",
      " [0.8        0.13793103 0.45       0.6        0.         1.        ]\n",
      " [0.4        0.37931034 0.5        0.8        0.         0.        ]\n",
      " [0.8        0.51724138 0.2        0.5        0.         0.        ]\n",
      " [0.4        0.93103448 0.225      0.1        0.         0.        ]\n",
      " [0.8        0.17241379 0.4        0.6        0.         0.        ]\n",
      " [0.4        0.4137931  0.625      0.6        0.         0.        ]\n",
      " [0.8        0.4137931  0.75       0.3        0.         1.        ]\n",
      " [0.8        0.20689655 0.9        0.2        0.         0.        ]\n",
      " [1.         0.44827586 0.85       0.6        0.         0.        ]\n",
      " [0.         0.72413793 0.975      0.1        0.         1.        ]\n",
      " [0.8        0.4137931  0.525      0.4        0.         0.        ]\n",
      " [0.         0.44827586 0.05       0.6        0.         0.        ]\n",
      " [0.         0.82758621 0.175      0.3        0.         0.        ]\n",
      " [0.2        0.20689655 0.1        0.8        0.         0.        ]\n",
      " [0.4        0.82758621 0.325      0.5        0.         0.        ]\n",
      " [0.8        0.51724138 0.475      0.1        0.         0.        ]\n",
      " [0.6        0.20689655 0.825      0.6        0.         0.        ]\n",
      " [0.8        0.51724138 0.95       0.1        0.         1.        ]\n",
      " [0.4        0.20689655 0.875      0.1        0.         1.        ]\n",
      " [0.4        0.82758621 0.325      0.4        0.         1.        ]\n",
      " [0.8        0.51724138 0.475      0.6        0.         1.        ]\n",
      " [0.4        0.20689655 0.825      0.3        0.         0.        ]]\n"
     ]
    }
   ],
   "source": [
    "from sklearn.preprocessing import MinMaxScaler\n",
    "scaler = MinMaxScaler()\n",
    "scaler.fit(df)\n",
    "scaled_data = scaler.transform(df)\n",
    "print(scaled_data)\n"
   ]
  },
  {
   "cell_type": "code",
   "execution_count": null,
   "id": "2337a581-accb-430f-8f18-cebb6829e711",
   "metadata": {},
   "outputs": [],
   "source": []
  }
 ],
 "metadata": {
  "kernelspec": {
   "display_name": "Python 3 (ipykernel)",
   "language": "python",
   "name": "python3"
  },
  "language_info": {
   "codemirror_mode": {
    "name": "ipython",
    "version": 3
   },
   "file_extension": ".py",
   "mimetype": "text/x-python",
   "name": "python",
   "nbconvert_exporter": "python",
   "pygments_lexer": "ipython3",
   "version": "3.12.4"
  }
 },
 "nbformat": 4,
 "nbformat_minor": 5
}
